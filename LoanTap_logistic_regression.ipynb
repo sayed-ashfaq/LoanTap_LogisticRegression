{
 "cells": [
  {
   "cell_type": "markdown",
   "id": "f66afbdd-8826-44e1-81c3-cda8672ae9b4",
   "metadata": {},
   "source": [
    "# LoanTap Case Study - Creditworthiness Underwriting Model\n",
    "\n",
    "---\n",
    "\n",
    "## 🏢 Business Context\n",
    "\n",
    "LoanTap is an online platform focused on providing **customized loan products to millennials**. The company aims to innovate in a traditionally dull segment by offering **instant, flexible loans** to salaried professionals and business owners.\n",
    "\n",
    "LoanTap's data science team is building an **underwriting model** to determine the **creditworthiness of MSMEs and individuals**.\n",
    "\n",
    "This case study will specifically focus on **Personal Loan underwriting**: Personal loan underwriting is the process where lenders assess the risk of lending money to a borrower by evaluating their creditworthiness, financial stability, and ability to repay the loan.\n",
    "\n",
    "---\n",
    "\n",
    "## 📌 Problem Statement\n",
    "\n",
    "Given a set of attributes for an individual:\n",
    "- **Should a credit line be extended to them?**\n",
    "- If yes, **what should the repayment terms be in business recommendations?**\n",
    "\n",
    "---\n",
    "\n",
    "## 💼 Financial Instruments by LoanTap\n",
    "\n",
    "- Personal Loan\n",
    "- EMI Free Loan\n",
    "- Personal Overdraft\n",
    "- Advance Salary Loan\n",
    "\n",
    "*This case study focuses only on the **Personal Loan** product.*\n",
    "\n",
    "---\n",
    "\n",
    "## 📊 Dataset: `LoanTapData.csv`\n",
    "\n",
    "### 🔑 Data Dictionary\n",
    "\n",
    "| Column Name            | Description |\n",
    "|------------------------|-------------|\n",
    "| loan_amnt              | Listed amount of the loan applied for |\n",
    "| term                   | Loan repayment period (in months - 36 or 60) |\n",
    "| int_rate               | Interest Rate on the loan |\n",
    "| installment            | Monthly installment if the loan is granted |\n",
    "| grade, sub_grade       | LoanTap assigned loan grades |\n",
    "| emp_title              | Job title of the borrower |\n",
    "| emp_length             | Employment length (0–10 years) |\n",
    "| home_ownership         | Home ownership status |\n",
    "| annual_inc             | Annual income (self-reported) |\n",
    "| verification_status    | Verification status of income |\n",
    "| issue_d                | Month when loan was funded |\n",
    "| loan_status            | Current status of the loan (**Target variable**) |\n",
    "| purpose, title         | Reason/title of the loan |\n",
    "| dti                    | Debt-to-Income ratio |\n",
    "| earliest_cr_line       | Date of first credit line |\n",
    "| open_acc               | Number of open credit lines |\n",
    "| pub_rec                | Derogatory public records |\n",
    "| revol_bal              | Revolving balance |\n",
    "| revol_util             | Revolving utilization rate |\n",
    "| total_acc              | Total number of credit lines |\n",
    "| initial_list_status    | Initial listing status (W or F) |\n",
    "| application_type       | Individual or joint application |\n",
    "| mort_acc               | Number of mortgage accounts |\n",
    "| pub_rec_bankruptcies   | Number of bankruptcies |\n",
    "| address                | Borrower’s address |\n",
    "\n",
    "---\n",
    "\n",
    "## 🧠 Concepts Used\n",
    "\n",
    "- Exploratory Data Analysis\n",
    "- Feature Engineering\n",
    "- Logistic Regression\n",
    "- Precision vs Recall Tradeoff"
   ]
  },
  {
   "cell_type": "markdown",
   "id": "6d9c4fcc-8f38-4a9f-836f-40b00c8a758f",
   "metadata": {},
   "source": [
    "## ✅ What Does ‘Good’ Look Like?\n",
    "\n",
    "1. **Import the dataset and perform EDA**\n",
    "2. **Explore how `loan_status` (target variable) is influenced by predictors**\n",
    "3. **Check correlations**\n",
    "4. **Feature Engineering**: Create flags for:\n",
    "   - `pub_rec`\n",
    "   - `mort_acc`\n",
    "   - `pub_rec_bankruptcies`\n",
    "5. **Handle Missing Values & Outliers**\n",
    "6. **Scaling** using `MinMaxScaler` or `StandardScaler`\n",
    "7. **Model Building** with `LogisticRegression`\n",
    "8. **Evaluation**:\n",
    "   - Classification Report\n",
    "   - ROC AUC Curve\n",
    "   - Precision Recall Curve\n",
    "\n",
    "---\n",
    "\n",
    "## 🧮 Evaluation Criteria (Total: 100 Points)\n",
    "\n",
    "### 🔍 EDA (10 points)\n",
    "- Shape, data types, missing values, summary statistics\n",
    "- Categorical → Category\n",
    "- Univariate & Bivariate Analysis (Distribution, Box, Count, Heatmap)\n",
    "- Insights, outliers, variable relationships\n",
    "\n",
    "### 🔧 Data Preprocessing (20 points)\n",
    "- Remove duplicates\n",
    "- Missing value treatment\n",
    "- Outlier handling\n",
    "- Feature engineering\n",
    "- Final dataset for modeling\n",
    "\n",
    "### 🧱 Model Building (10 points)\n",
    "- Logistic Regression\n",
    "- Model coefficients with column names\n",
    "- Model interpretation\n",
    "\n",
    "### 📊 Results Evaluation (50 points)\n",
    "- ROC AUC Curve (10)\n",
    "- Precision Recall Curve (10)\n",
    "- Classification Report (10)\n",
    "- Tradeoff Questions (10+10):\n",
    "  - How to reduce false positives\n",
    "  - Why NPA risk makes false negatives dangerous\n",
    "\n",
    "### 💡 Actionable Recommendations (10 points)\n",
    "\n",
    "---\n",
    "\n",
    "## 📋 Questionnaire (Answer in Markdown/Text Cell)\n",
    "\n",
    "1. What percentage of customers have fully paid their Loan Amount?\n",
    "2. Comment about the correlation between `loan_amnt` and `installment`.\n",
    "3. The majority of people have home ownership as _______.\n",
    "4. People with grades ‘A’ are more likely to fully pay their loan. (T/F)\n",
    "5. Name the top 2 afforded job titles.\n",
    "6. Thinking from a bank’s perspective, which metric should our primary focus be on?\n",
    "   - ROC AUC\n",
    "   - Precision\n",
    "   - Recall\n",
    "   - F1 Score\n",
    "7. How does the gap in precision and recall affect the bank?\n",
    "8. Which were the features that heavily affected the outcome?\n",
    "9. Will the results be affected by geographical location? (Yes/No)\n",
    "\n",
    "---\n",
    "\n",
    "## 💬 Discussion Forum\n",
    "\n",
    "[Click here to discuss on Scaler Forum](https://www.scaler.com/academy/mentee-dashboard/discussion-forum/p/ask-me-anything-business-case-loantap/21146)\n",
    "\n",
    "---\n"
   ]
  },
  {
   "cell_type": "code",
   "execution_count": 3,
   "id": "b7f9b679-1561-4a29-8547-6fd226f217a1",
   "metadata": {},
   "outputs": [],
   "source": [
    "# importing the libraries\n",
    "\n",
    "import pandas as pd\n",
    "import numpy as np\n",
    "import seaborn as sns\n",
    "import matplotlib.pyplot as plt\n",
    "\n",
    "import warnings\n",
    "warnings.filterwarnings(\"ignore\")"
   ]
  },
  {
   "cell_type": "code",
   "execution_count": 4,
   "id": "d50469bd-a8a6-4cfa-9294-8cf0780d9f25",
   "metadata": {},
   "outputs": [],
   "source": [
    "# load the dataset\n",
    "original_data = pd.read_csv(\"logistic_regression.csv\")\n",
    "og_cols = original_data.columns.tolist()"
   ]
  },
  {
   "cell_type": "code",
   "execution_count": 5,
   "id": "221b2108-f8f1-4e8d-bccc-120ed395f448",
   "metadata": {},
   "outputs": [
    {
     "data": {
      "text/html": [
       "<div>\n",
       "<style scoped>\n",
       "    .dataframe tbody tr th:only-of-type {\n",
       "        vertical-align: middle;\n",
       "    }\n",
       "\n",
       "    .dataframe tbody tr th {\n",
       "        vertical-align: top;\n",
       "    }\n",
       "\n",
       "    .dataframe thead th {\n",
       "        text-align: right;\n",
       "    }\n",
       "</style>\n",
       "<table border=\"1\" class=\"dataframe\">\n",
       "  <thead>\n",
       "    <tr style=\"text-align: right;\">\n",
       "      <th></th>\n",
       "      <th>loan_amnt</th>\n",
       "      <th>term</th>\n",
       "      <th>int_rate</th>\n",
       "      <th>installment</th>\n",
       "      <th>grade</th>\n",
       "      <th>sub_grade</th>\n",
       "      <th>emp_title</th>\n",
       "      <th>emp_length</th>\n",
       "      <th>home_ownership</th>\n",
       "      <th>annual_inc</th>\n",
       "      <th>...</th>\n",
       "      <th>open_acc</th>\n",
       "      <th>pub_rec</th>\n",
       "      <th>revol_bal</th>\n",
       "      <th>revol_util</th>\n",
       "      <th>total_acc</th>\n",
       "      <th>initial_list_status</th>\n",
       "      <th>application_type</th>\n",
       "      <th>mort_acc</th>\n",
       "      <th>pub_rec_bankruptcies</th>\n",
       "      <th>address</th>\n",
       "    </tr>\n",
       "  </thead>\n",
       "  <tbody>\n",
       "    <tr>\n",
       "      <th>0</th>\n",
       "      <td>10000.0</td>\n",
       "      <td>36 months</td>\n",
       "      <td>11.44</td>\n",
       "      <td>329.48</td>\n",
       "      <td>B</td>\n",
       "      <td>B4</td>\n",
       "      <td>Marketing</td>\n",
       "      <td>10+ years</td>\n",
       "      <td>RENT</td>\n",
       "      <td>117000.0</td>\n",
       "      <td>...</td>\n",
       "      <td>16.0</td>\n",
       "      <td>0.0</td>\n",
       "      <td>36369.0</td>\n",
       "      <td>41.8</td>\n",
       "      <td>25.0</td>\n",
       "      <td>w</td>\n",
       "      <td>INDIVIDUAL</td>\n",
       "      <td>0.0</td>\n",
       "      <td>0.0</td>\n",
       "      <td>0174 Michelle Gateway\\r\\nMendozaberg, OK 22690</td>\n",
       "    </tr>\n",
       "    <tr>\n",
       "      <th>1</th>\n",
       "      <td>8000.0</td>\n",
       "      <td>36 months</td>\n",
       "      <td>11.99</td>\n",
       "      <td>265.68</td>\n",
       "      <td>B</td>\n",
       "      <td>B5</td>\n",
       "      <td>Credit analyst</td>\n",
       "      <td>4 years</td>\n",
       "      <td>MORTGAGE</td>\n",
       "      <td>65000.0</td>\n",
       "      <td>...</td>\n",
       "      <td>17.0</td>\n",
       "      <td>0.0</td>\n",
       "      <td>20131.0</td>\n",
       "      <td>53.3</td>\n",
       "      <td>27.0</td>\n",
       "      <td>f</td>\n",
       "      <td>INDIVIDUAL</td>\n",
       "      <td>3.0</td>\n",
       "      <td>0.0</td>\n",
       "      <td>1076 Carney Fort Apt. 347\\r\\nLoganmouth, SD 05113</td>\n",
       "    </tr>\n",
       "    <tr>\n",
       "      <th>2</th>\n",
       "      <td>15600.0</td>\n",
       "      <td>36 months</td>\n",
       "      <td>10.49</td>\n",
       "      <td>506.97</td>\n",
       "      <td>B</td>\n",
       "      <td>B3</td>\n",
       "      <td>Statistician</td>\n",
       "      <td>&lt; 1 year</td>\n",
       "      <td>RENT</td>\n",
       "      <td>43057.0</td>\n",
       "      <td>...</td>\n",
       "      <td>13.0</td>\n",
       "      <td>0.0</td>\n",
       "      <td>11987.0</td>\n",
       "      <td>92.2</td>\n",
       "      <td>26.0</td>\n",
       "      <td>f</td>\n",
       "      <td>INDIVIDUAL</td>\n",
       "      <td>0.0</td>\n",
       "      <td>0.0</td>\n",
       "      <td>87025 Mark Dale Apt. 269\\r\\nNew Sabrina, WV 05113</td>\n",
       "    </tr>\n",
       "    <tr>\n",
       "      <th>3</th>\n",
       "      <td>7200.0</td>\n",
       "      <td>36 months</td>\n",
       "      <td>6.49</td>\n",
       "      <td>220.65</td>\n",
       "      <td>A</td>\n",
       "      <td>A2</td>\n",
       "      <td>Client Advocate</td>\n",
       "      <td>6 years</td>\n",
       "      <td>RENT</td>\n",
       "      <td>54000.0</td>\n",
       "      <td>...</td>\n",
       "      <td>6.0</td>\n",
       "      <td>0.0</td>\n",
       "      <td>5472.0</td>\n",
       "      <td>21.5</td>\n",
       "      <td>13.0</td>\n",
       "      <td>f</td>\n",
       "      <td>INDIVIDUAL</td>\n",
       "      <td>0.0</td>\n",
       "      <td>0.0</td>\n",
       "      <td>823 Reid Ford\\r\\nDelacruzside, MA 00813</td>\n",
       "    </tr>\n",
       "    <tr>\n",
       "      <th>4</th>\n",
       "      <td>24375.0</td>\n",
       "      <td>60 months</td>\n",
       "      <td>17.27</td>\n",
       "      <td>609.33</td>\n",
       "      <td>C</td>\n",
       "      <td>C5</td>\n",
       "      <td>Destiny Management Inc.</td>\n",
       "      <td>9 years</td>\n",
       "      <td>MORTGAGE</td>\n",
       "      <td>55000.0</td>\n",
       "      <td>...</td>\n",
       "      <td>13.0</td>\n",
       "      <td>0.0</td>\n",
       "      <td>24584.0</td>\n",
       "      <td>69.8</td>\n",
       "      <td>43.0</td>\n",
       "      <td>f</td>\n",
       "      <td>INDIVIDUAL</td>\n",
       "      <td>1.0</td>\n",
       "      <td>0.0</td>\n",
       "      <td>679 Luna Roads\\r\\nGreggshire, VA 11650</td>\n",
       "    </tr>\n",
       "  </tbody>\n",
       "</table>\n",
       "<p>5 rows × 27 columns</p>\n",
       "</div>"
      ],
      "text/plain": [
       "   loan_amnt        term  int_rate  installment grade sub_grade  \\\n",
       "0    10000.0   36 months     11.44       329.48     B        B4   \n",
       "1     8000.0   36 months     11.99       265.68     B        B5   \n",
       "2    15600.0   36 months     10.49       506.97     B        B3   \n",
       "3     7200.0   36 months      6.49       220.65     A        A2   \n",
       "4    24375.0   60 months     17.27       609.33     C        C5   \n",
       "\n",
       "                 emp_title emp_length home_ownership  annual_inc  ...  \\\n",
       "0                Marketing  10+ years           RENT    117000.0  ...   \n",
       "1          Credit analyst     4 years       MORTGAGE     65000.0  ...   \n",
       "2             Statistician   < 1 year           RENT     43057.0  ...   \n",
       "3          Client Advocate    6 years           RENT     54000.0  ...   \n",
       "4  Destiny Management Inc.    9 years       MORTGAGE     55000.0  ...   \n",
       "\n",
       "  open_acc pub_rec revol_bal revol_util total_acc  initial_list_status  \\\n",
       "0     16.0     0.0   36369.0       41.8      25.0                    w   \n",
       "1     17.0     0.0   20131.0       53.3      27.0                    f   \n",
       "2     13.0     0.0   11987.0       92.2      26.0                    f   \n",
       "3      6.0     0.0    5472.0       21.5      13.0                    f   \n",
       "4     13.0     0.0   24584.0       69.8      43.0                    f   \n",
       "\n",
       "  application_type  mort_acc  pub_rec_bankruptcies  \\\n",
       "0       INDIVIDUAL       0.0                   0.0   \n",
       "1       INDIVIDUAL       3.0                   0.0   \n",
       "2       INDIVIDUAL       0.0                   0.0   \n",
       "3       INDIVIDUAL       0.0                   0.0   \n",
       "4       INDIVIDUAL       1.0                   0.0   \n",
       "\n",
       "                                             address  \n",
       "0     0174 Michelle Gateway\\r\\nMendozaberg, OK 22690  \n",
       "1  1076 Carney Fort Apt. 347\\r\\nLoganmouth, SD 05113  \n",
       "2  87025 Mark Dale Apt. 269\\r\\nNew Sabrina, WV 05113  \n",
       "3            823 Reid Ford\\r\\nDelacruzside, MA 00813  \n",
       "4             679 Luna Roads\\r\\nGreggshire, VA 11650  \n",
       "\n",
       "[5 rows x 27 columns]"
      ]
     },
     "execution_count": 5,
     "metadata": {},
     "output_type": "execute_result"
    }
   ],
   "source": [
    "data = original_data.copy(deep= True)\n",
    "data.head()"
   ]
  },
  {
   "cell_type": "code",
   "execution_count": 6,
   "id": "d53d59bd-35d2-43d5-addf-50c63f2b9495",
   "metadata": {},
   "outputs": [
    {
     "name": "stdout",
     "output_type": "stream",
     "text": [
      "No. of rows in the data: 396030\n",
      "No. of columns in the data: 27\n"
     ]
    }
   ],
   "source": [
    "print(f\"No. of rows in the data: {data.shape[0]}\")\n",
    "print(f\"No. of columns in the data: {data.shape[1]}\")"
   ]
  },
  {
   "cell_type": "markdown",
   "id": "71607bd6-19f4-4597-893d-9ffc2c1de1e4",
   "metadata": {},
   "source": [
    "**Working on almost 4 lac rows of user's data, and 27 columns**"
   ]
  },
  {
   "cell_type": "code",
   "execution_count": 8,
   "id": "f5080906-e655-4ea0-ab34-7524f8f42d45",
   "metadata": {},
   "outputs": [
    {
     "name": "stdout",
     "output_type": "stream",
     "text": [
      "<class 'pandas.core.frame.DataFrame'>\n",
      "RangeIndex: 396030 entries, 0 to 396029\n",
      "Data columns (total 27 columns):\n",
      " #   Column                Non-Null Count   Dtype  \n",
      "---  ------                --------------   -----  \n",
      " 0   loan_amnt             396030 non-null  float64\n",
      " 1   term                  396030 non-null  object \n",
      " 2   int_rate              396030 non-null  float64\n",
      " 3   installment           396030 non-null  float64\n",
      " 4   grade                 396030 non-null  object \n",
      " 5   sub_grade             396030 non-null  object \n",
      " 6   emp_title             373103 non-null  object \n",
      " 7   emp_length            377729 non-null  object \n",
      " 8   home_ownership        396030 non-null  object \n",
      " 9   annual_inc            396030 non-null  float64\n",
      " 10  verification_status   396030 non-null  object \n",
      " 11  issue_d               396030 non-null  object \n",
      " 12  loan_status           396030 non-null  object \n",
      " 13  purpose               396030 non-null  object \n",
      " 14  title                 394274 non-null  object \n",
      " 15  dti                   396030 non-null  float64\n",
      " 16  earliest_cr_line      396030 non-null  object \n",
      " 17  open_acc              396030 non-null  float64\n",
      " 18  pub_rec               396030 non-null  float64\n",
      " 19  revol_bal             396030 non-null  float64\n",
      " 20  revol_util            395754 non-null  float64\n",
      " 21  total_acc             396030 non-null  float64\n",
      " 22  initial_list_status   396030 non-null  object \n",
      " 23  application_type      396030 non-null  object \n",
      " 24  mort_acc              358235 non-null  float64\n",
      " 25  pub_rec_bankruptcies  395495 non-null  float64\n",
      " 26  address               396030 non-null  object \n",
      "dtypes: float64(12), object(15)\n",
      "memory usage: 81.6+ MB\n"
     ]
    }
   ],
   "source": [
    "data.info() # Basic overview of data - Nulls and object types"
   ]
  },
  {
   "cell_type": "markdown",
   "id": "bbc8cf5f-ed40-4ed1-bb06-0a9bf567da42",
   "metadata": {},
   "source": [
    "**Dividing num_cols and cat_cols into separate lists for better analysis**"
   ]
  },
  {
   "cell_type": "markdown",
   "id": "22853584-033f-4499-85f3-cec392ddd93f",
   "metadata": {},
   "source": [
    "### Null Values Treatment"
   ]
  },
  {
   "cell_type": "code",
   "execution_count": 171,
   "id": "572edd97-33a9-4a63-80c6-e4b6ec610cc7",
   "metadata": {},
   "outputs": [
    {
     "data": {
      "text/html": [
       "<div>\n",
       "<style scoped>\n",
       "    .dataframe tbody tr th:only-of-type {\n",
       "        vertical-align: middle;\n",
       "    }\n",
       "\n",
       "    .dataframe tbody tr th {\n",
       "        vertical-align: top;\n",
       "    }\n",
       "\n",
       "    .dataframe thead th {\n",
       "        text-align: right;\n",
       "    }\n",
       "</style>\n",
       "<table border=\"1\" class=\"dataframe\">\n",
       "  <thead>\n",
       "    <tr style=\"text-align: right;\">\n",
       "      <th></th>\n",
       "      <th>index</th>\n",
       "      <th>0</th>\n",
       "    </tr>\n",
       "  </thead>\n",
       "  <tbody>\n",
       "    <tr>\n",
       "      <th>0</th>\n",
       "      <td>emp_length</td>\n",
       "      <td>18301</td>\n",
       "    </tr>\n",
       "    <tr>\n",
       "      <th>1</th>\n",
       "      <td>emp_length_clean</td>\n",
       "      <td>18301</td>\n",
       "    </tr>\n",
       "    <tr>\n",
       "      <th>2</th>\n",
       "      <td>emp_level</td>\n",
       "      <td>18301</td>\n",
       "    </tr>\n",
       "  </tbody>\n",
       "</table>\n",
       "</div>"
      ],
      "text/plain": [
       "              index      0\n",
       "0        emp_length  18301\n",
       "1  emp_length_clean  18301\n",
       "2         emp_level  18301"
      ]
     },
     "execution_count": 171,
     "metadata": {},
     "output_type": "execute_result"
    }
   ],
   "source": [
    "# Null Count\n",
    "data.isna().sum()[data.isna().sum() > 0].reset_index()"
   ]
  },
  {
   "cell_type": "markdown",
   "id": "077e9737-9c87-4550-aa27-e2857bd77aca",
   "metadata": {},
   "source": [
    "**These columns have Null values - No we can treat them based on what kind of data they are**\n",
    "- columns with names or **`emp_title`** we can use forward fill or mode - motto is to distribute equally\n",
    "- numerical features can be filled with custom value like **`pub_rec_bankruptcies`**, **`mort_acc`** as '0' OR with mean.\n",
    "- first we need to fill the **`emp_lenght`** with values so that it should be distributed into bins. (we can fill with 0 as we can assume he is a fresher or non employer or with the mean)\n",
    "- **`emp_title`**, **`title`** are titles or names - having too many unique titles (high-cardinality categorical variables)—like over 10,000 unique values in the title column—can negatively affect a logistic regression model. so we can easily drop them"
   ]
  },
  {
   "cell_type": "code",
   "execution_count": 13,
   "id": "f748c10c-3625-4b8b-812a-688dec63b8cd",
   "metadata": {},
   "outputs": [
    {
     "data": {
      "text/html": [
       "<div>\n",
       "<style scoped>\n",
       "    .dataframe tbody tr th:only-of-type {\n",
       "        vertical-align: middle;\n",
       "    }\n",
       "\n",
       "    .dataframe tbody tr th {\n",
       "        vertical-align: top;\n",
       "    }\n",
       "\n",
       "    .dataframe thead th {\n",
       "        text-align: right;\n",
       "    }\n",
       "</style>\n",
       "<table border=\"1\" class=\"dataframe\">\n",
       "  <thead>\n",
       "    <tr style=\"text-align: right;\">\n",
       "      <th></th>\n",
       "      <th>index</th>\n",
       "      <th>0</th>\n",
       "    </tr>\n",
       "  </thead>\n",
       "  <tbody>\n",
       "    <tr>\n",
       "      <th>0</th>\n",
       "      <td>emp_length</td>\n",
       "      <td>18301</td>\n",
       "    </tr>\n",
       "    <tr>\n",
       "      <th>1</th>\n",
       "      <td>revol_util</td>\n",
       "      <td>276</td>\n",
       "    </tr>\n",
       "    <tr>\n",
       "      <th>2</th>\n",
       "      <td>mort_acc</td>\n",
       "      <td>37795</td>\n",
       "    </tr>\n",
       "    <tr>\n",
       "      <th>3</th>\n",
       "      <td>pub_rec_bankruptcies</td>\n",
       "      <td>535</td>\n",
       "    </tr>\n",
       "  </tbody>\n",
       "</table>\n",
       "</div>"
      ],
      "text/plain": [
       "                  index      0\n",
       "0            emp_length  18301\n",
       "1            revol_util    276\n",
       "2              mort_acc  37795\n",
       "3  pub_rec_bankruptcies    535"
      ]
     },
     "execution_count": 13,
     "metadata": {},
     "output_type": "execute_result"
    }
   ],
   "source": [
    "data.drop(labels= ['emp_title', 'title'], axis= 1, inplace= True)\n",
    "\n",
    "data.isna().sum()[data.isna().sum() > 0].reset_index()"
   ]
  },
  {
   "cell_type": "code",
   "execution_count": 14,
   "id": "da76ff2a-8419-489e-8dc0-c5f8eb15895d",
   "metadata": {},
   "outputs": [
    {
     "data": {
      "text/html": [
       "<div>\n",
       "<style scoped>\n",
       "    .dataframe tbody tr th:only-of-type {\n",
       "        vertical-align: middle;\n",
       "    }\n",
       "\n",
       "    .dataframe tbody tr th {\n",
       "        vertical-align: top;\n",
       "    }\n",
       "\n",
       "    .dataframe thead th {\n",
       "        text-align: right;\n",
       "    }\n",
       "</style>\n",
       "<table border=\"1\" class=\"dataframe\">\n",
       "  <thead>\n",
       "    <tr style=\"text-align: right;\">\n",
       "      <th></th>\n",
       "      <th>emp_length</th>\n",
       "      <th>revol_util</th>\n",
       "      <th>mort_acc</th>\n",
       "      <th>pub_rec_bankruptcies</th>\n",
       "    </tr>\n",
       "  </thead>\n",
       "  <tbody>\n",
       "    <tr>\n",
       "      <th>0</th>\n",
       "      <td>10+ years</td>\n",
       "      <td>41.8</td>\n",
       "      <td>0.0</td>\n",
       "      <td>0.0</td>\n",
       "    </tr>\n",
       "    <tr>\n",
       "      <th>1</th>\n",
       "      <td>4 years</td>\n",
       "      <td>53.3</td>\n",
       "      <td>3.0</td>\n",
       "      <td>0.0</td>\n",
       "    </tr>\n",
       "    <tr>\n",
       "      <th>2</th>\n",
       "      <td>&lt; 1 year</td>\n",
       "      <td>92.2</td>\n",
       "      <td>0.0</td>\n",
       "      <td>0.0</td>\n",
       "    </tr>\n",
       "    <tr>\n",
       "      <th>3</th>\n",
       "      <td>6 years</td>\n",
       "      <td>21.5</td>\n",
       "      <td>0.0</td>\n",
       "      <td>0.0</td>\n",
       "    </tr>\n",
       "    <tr>\n",
       "      <th>4</th>\n",
       "      <td>9 years</td>\n",
       "      <td>69.8</td>\n",
       "      <td>1.0</td>\n",
       "      <td>0.0</td>\n",
       "    </tr>\n",
       "  </tbody>\n",
       "</table>\n",
       "</div>"
      ],
      "text/plain": [
       "  emp_length  revol_util  mort_acc  pub_rec_bankruptcies\n",
       "0  10+ years        41.8       0.0                   0.0\n",
       "1    4 years        53.3       3.0                   0.0\n",
       "2   < 1 year        92.2       0.0                   0.0\n",
       "3    6 years        21.5       0.0                   0.0\n",
       "4    9 years        69.8       1.0                   0.0"
      ]
     },
     "execution_count": 14,
     "metadata": {},
     "output_type": "execute_result"
    }
   ],
   "source": [
    "null_cols = list(data.isna().sum()[data.isna().sum() > 0].index)\n",
    "data[null_cols].head()"
   ]
  },
  {
   "cell_type": "markdown",
   "id": "0a79019a-5a38-4215-b097-8bafe08f6816",
   "metadata": {},
   "source": [
    "**Below process takes a lot of time - we can drop this feature and continue further since it is not much useful for building a model**"
   ]
  },
  {
   "cell_type": "code",
   "execution_count": 16,
   "id": "feb67095-b02e-4cb5-9f02-d5d2cce80717",
   "metadata": {},
   "outputs": [
    {
     "data": {
      "text/plain": [
       "mort_acc                0\n",
       "pub_rec_bankruptcies    0\n",
       "dtype: int64"
      ]
     },
     "execution_count": 16,
     "metadata": {},
     "output_type": "execute_result"
    }
   ],
   "source": [
    "data[['mort_acc', 'pub_rec_bankruptcies']]= data[['mort_acc', 'pub_rec_bankruptcies']].fillna(0)\n",
    "\n",
    "data[['mort_acc', 'pub_rec_bankruptcies']].isna().sum()"
   ]
  },
  {
   "cell_type": "code",
   "execution_count": 17,
   "id": "16f222e5-aed2-45fc-9dfe-b5c35815e22f",
   "metadata": {},
   "outputs": [
    {
     "data": {
      "text/plain": [
       "<Axes: xlabel='revol_util'>"
      ]
     },
     "execution_count": 17,
     "metadata": {},
     "output_type": "execute_result"
    },
    {
     "data": {
      "image/png": "[encoded data removed]",
      "text/plain": [
       "<Figure size 600x200 with 1 Axes>"
      ]
     },
     "metadata": {},
     "output_type": "display_data"
    }
   ],
   "source": [
    "plt.figure(figsize = (6, 2))\n",
    "sns.boxplot(data[\"revol_util\"], orient= \"h\")"
   ]
  },
  {
   "cell_type": "code",
   "execution_count": 18,
   "id": "3797a8b8-abe2-4959-a6e9-6f9b2c1b0c21",
   "metadata": {},
   "outputs": [
    {
     "data": {
      "text/html": [
       "<div>\n",
       "<style scoped>\n",
       "    .dataframe tbody tr th:only-of-type {\n",
       "        vertical-align: middle;\n",
       "    }\n",
       "\n",
       "    .dataframe tbody tr th {\n",
       "        vertical-align: top;\n",
       "    }\n",
       "\n",
       "    .dataframe thead th {\n",
       "        text-align: right;\n",
       "    }\n",
       "</style>\n",
       "<table border=\"1\" class=\"dataframe\">\n",
       "  <thead>\n",
       "    <tr style=\"text-align: right;\">\n",
       "      <th></th>\n",
       "      <th>loan_amnt</th>\n",
       "      <th>term</th>\n",
       "      <th>grade</th>\n",
       "      <th>emp_length</th>\n",
       "      <th>annual_inc</th>\n",
       "      <th>revol_util</th>\n",
       "    </tr>\n",
       "  </thead>\n",
       "  <tbody>\n",
       "    <tr>\n",
       "      <th>16793</th>\n",
       "      <td>18000.0</td>\n",
       "      <td>60 months</td>\n",
       "      <td>D</td>\n",
       "      <td>8 years</td>\n",
       "      <td>136000.0</td>\n",
       "      <td>129.4</td>\n",
       "    </tr>\n",
       "    <tr>\n",
       "      <th>65687</th>\n",
       "      <td>10000.0</td>\n",
       "      <td>36 months</td>\n",
       "      <td>C</td>\n",
       "      <td>10+ years</td>\n",
       "      <td>91000.0</td>\n",
       "      <td>150.7</td>\n",
       "    </tr>\n",
       "    <tr>\n",
       "      <th>82600</th>\n",
       "      <td>12000.0</td>\n",
       "      <td>60 months</td>\n",
       "      <td>D</td>\n",
       "      <td>NaN</td>\n",
       "      <td>45600.0</td>\n",
       "      <td>152.5</td>\n",
       "    </tr>\n",
       "    <tr>\n",
       "      <th>108246</th>\n",
       "      <td>10000.0</td>\n",
       "      <td>36 months</td>\n",
       "      <td>D</td>\n",
       "      <td>2 years</td>\n",
       "      <td>60000.0</td>\n",
       "      <td>136.7</td>\n",
       "    </tr>\n",
       "    <tr>\n",
       "      <th>137211</th>\n",
       "      <td>3500.0</td>\n",
       "      <td>36 months</td>\n",
       "      <td>B</td>\n",
       "      <td>10+ years</td>\n",
       "      <td>45000.0</td>\n",
       "      <td>892.3</td>\n",
       "    </tr>\n",
       "    <tr>\n",
       "      <th>153970</th>\n",
       "      <td>12550.0</td>\n",
       "      <td>60 months</td>\n",
       "      <td>D</td>\n",
       "      <td>4 years</td>\n",
       "      <td>30000.0</td>\n",
       "      <td>129.5</td>\n",
       "    </tr>\n",
       "    <tr>\n",
       "      <th>165111</th>\n",
       "      <td>12600.0</td>\n",
       "      <td>36 months</td>\n",
       "      <td>A</td>\n",
       "      <td>8 years</td>\n",
       "      <td>96011.0</td>\n",
       "      <td>146.1</td>\n",
       "    </tr>\n",
       "    <tr>\n",
       "      <th>211426</th>\n",
       "      <td>9175.0</td>\n",
       "      <td>36 months</td>\n",
       "      <td>D</td>\n",
       "      <td>6 years</td>\n",
       "      <td>45000.0</td>\n",
       "      <td>132.1</td>\n",
       "    </tr>\n",
       "    <tr>\n",
       "      <th>296174</th>\n",
       "      <td>12000.0</td>\n",
       "      <td>36 months</td>\n",
       "      <td>D</td>\n",
       "      <td>5 years</td>\n",
       "      <td>200000.0</td>\n",
       "      <td>140.4</td>\n",
       "    </tr>\n",
       "    <tr>\n",
       "      <th>312268</th>\n",
       "      <td>8000.0</td>\n",
       "      <td>36 months</td>\n",
       "      <td>C</td>\n",
       "      <td>4 years</td>\n",
       "      <td>105000.0</td>\n",
       "      <td>145.8</td>\n",
       "    </tr>\n",
       "    <tr>\n",
       "      <th>329037</th>\n",
       "      <td>35000.0</td>\n",
       "      <td>36 months</td>\n",
       "      <td>G</td>\n",
       "      <td>10+ years</td>\n",
       "      <td>165800.0</td>\n",
       "      <td>153.0</td>\n",
       "    </tr>\n",
       "    <tr>\n",
       "      <th>350333</th>\n",
       "      <td>25000.0</td>\n",
       "      <td>60 months</td>\n",
       "      <td>E</td>\n",
       "      <td>5 years</td>\n",
       "      <td>100000.0</td>\n",
       "      <td>148.0</td>\n",
       "    </tr>\n",
       "  </tbody>\n",
       "</table>\n",
       "</div>"
      ],
      "text/plain": [
       "        loan_amnt        term grade emp_length  annual_inc  revol_util\n",
       "16793     18000.0   60 months     D    8 years    136000.0       129.4\n",
       "65687     10000.0   36 months     C  10+ years     91000.0       150.7\n",
       "82600     12000.0   60 months     D        NaN     45600.0       152.5\n",
       "108246    10000.0   36 months     D    2 years     60000.0       136.7\n",
       "137211     3500.0   36 months     B  10+ years     45000.0       892.3\n",
       "153970    12550.0   60 months     D    4 years     30000.0       129.5\n",
       "165111    12600.0   36 months     A    8 years     96011.0       146.1\n",
       "211426     9175.0   36 months     D    6 years     45000.0       132.1\n",
       "296174    12000.0   36 months     D    5 years    200000.0       140.4\n",
       "312268     8000.0   36 months     C    4 years    105000.0       145.8\n",
       "329037    35000.0   36 months     G  10+ years    165800.0       153.0\n",
       "350333    25000.0   60 months     E    5 years    100000.0       148.0"
      ]
     },
     "execution_count": 18,
     "metadata": {},
     "output_type": "execute_result"
    }
   ],
   "source": [
    "## just one value that is very far from away - let's just remove it OR we can use capping method\n",
    "\n",
    "q1 = data[\"revol_util\"].quantile(0.25)\n",
    "q3 = data[\"revol_util\"].quantile(0.75)\n",
    "iqr = q3 - q1\n",
    "\n",
    "upper_bnd = q3 + 1.5*iqr\n",
    "lower_bnd = q1 - 1.5*iqr\n",
    "\n",
    "data[data[\"revol_util\"] > upper_bnd][['loan_amnt', 'term', 'grade', 'emp_length', 'annual_inc','revol_util']]"
   ]
  },
  {
   "cell_type": "code",
   "execution_count": 19,
   "id": "378f8abc-3d07-4f9d-8b4a-633d00b40f5b",
   "metadata": {},
   "outputs": [
    {
     "data": {
      "image/png": "[encoded data removed]",
      "text/plain": [
       "<Figure size 600x200 with 1 Axes>"
      ]
     },
     "metadata": {},
     "output_type": "display_data"
    }
   ],
   "source": [
    "lower_cap = data['revol_util'].quantile(0.01)\n",
    "upper_cap = data['revol_util'].quantile(0.999)\n",
    "\n",
    "data['revol_util']= np.clip(data['revol_util'], lower_cap, upper_cap) # cap the outliers to max upper bouders below the upper wick\n",
    "\n",
    "data['revol_util'].fillna(data['revol_util'].mean(), inplace=True) # fill Null values with mean\n",
    "\n",
    "# plot the feature to check what we have done\n",
    "plt.figure(figsize = (6, 2))\n",
    "sns.boxplot(data[\"revol_util\"], orient= \"h\")\n",
    "plt.show()"
   ]
  },
  {
   "cell_type": "code",
   "execution_count": 173,
   "id": "36c5583f-80e5-42bb-a027-4f4ec7941f28",
   "metadata": {},
   "outputs": [
    {
     "data": {
      "text/plain": [
       "emp_length\n",
       "10+ years    126041\n",
       "2 years       35827\n",
       "< 1 year      31725\n",
       "3 years       31665\n",
       "5 years       26495\n",
       "1 year        25882\n",
       "4 years       23952\n",
       "6 years       20841\n",
       "7 years       20819\n",
       "8 years       19168\n",
       "9 years       15314\n",
       "Name: count, dtype: int64"
      ]
     },
     "execution_count": 173,
     "metadata": {},
     "output_type": "execute_result"
    }
   ],
   "source": [
    "## emp lenght - check correlation with loanstatus\n",
    "data['emp_length'].value_counts()"
   ]
  },
  {
   "cell_type": "code",
   "execution_count": 45,
   "id": "a1b7d4c1-9d2f-44f0-9dfc-46a7a0dfb94e",
   "metadata": {},
   "outputs": [],
   "source": [
    "df = data.copy(deep= True)"
   ]
  },
  {
   "cell_type": "code",
   "execution_count": 68,
   "id": "3e6f5887-e4ec-451f-9723-8764bb82f7ef",
   "metadata": {},
   "outputs": [],
   "source": [
    "# from sklearn.preprocessing import LabelEncoder\n",
    "# from scipy.stats import chi2_contingency\n",
    "\n",
    "# # Example: Apply label encoding on categorical features\n",
    "# le = LabelEncoder()\n",
    "# df['emp_title'] = le.fit_transform(df['emp_title'])\n",
    "\n",
    "# # Now check correlation with 'Loan_Status'\n",
    "# contingency_table = pd.crosstab(df['emp_title'], df['loan_status'])dd\n",
    "# chi2, p, dof, expected = chi2_contingency(contingency_table)\n",
    "\n",
    "# print(f\"Chi-Square Test Statistic: {chi2}\")\n",
    "# print(f\"P-value: {p}\")"
   ]
  },
  {
   "cell_type": "code",
   "execution_count": 69,
   "id": "520cb5be-9f83-4641-bca0-bd6dd4015d6b",
   "metadata": {
    "scrolled": true
   },
   "outputs": [
    {
     "name": "stdout",
     "output_type": "stream",
     "text": [
      "################################################################################\n",
      "🔹 Column Name       : loan_amnt\n",
      "🔸 Data Type         : float64\n",
      "❌ Total Null Values : 0 (0.00%)\n",
      "🔢 Unique Values     : 1397\n",
      "################################################################################\n",
      "\n",
      "################################################################################\n",
      "🔹 Column Name       : term\n",
      "🔸 Data Type         : object\n",
      "❌ Total Null Values : 0 (0.00%)\n",
      "🔢 Unique Values     : 2\n",
      "\n",
      "📊 Value Counts:\n",
      "term\n",
      "36 months    302005\n",
      "60 months     94025\n",
      "Name: count, dtype: int64\n",
      "################################################################################\n",
      "\n",
      "################################################################################\n",
      "🔹 Column Name       : int_rate\n",
      "🔸 Data Type         : float64\n",
      "❌ Total Null Values : 0 (0.00%)\n",
      "🔢 Unique Values     : 566\n",
      "################################################################################\n",
      "\n",
      "################################################################################\n",
      "🔹 Column Name       : installment\n",
      "🔸 Data Type         : float64\n",
      "❌ Total Null Values : 0 (0.00%)\n",
      "🔢 Unique Values     : 55706\n",
      "################################################################################\n",
      "\n",
      "################################################################################\n",
      "🔹 Column Name       : grade\n",
      "🔸 Data Type         : object\n",
      "❌ Total Null Values : 0 (0.00%)\n",
      "🔢 Unique Values     : 7\n",
      "\n",
      "📊 Value Counts:\n",
      "grade\n",
      "B    116018\n",
      "C    105987\n",
      "A     64187\n",
      "D     63524\n",
      "E     31488\n",
      "F     11772\n",
      "G      3054\n",
      "Name: count, dtype: int64\n",
      "################################################################################\n",
      "\n",
      "################################################################################\n",
      "🔹 Column Name       : sub_grade\n",
      "🔸 Data Type         : object\n",
      "❌ Total Null Values : 0 (0.00%)\n",
      "🔢 Unique Values     : 35\n",
      "################################################################################\n",
      "\n",
      "################################################################################\n",
      "🔹 Column Name       : emp_length\n",
      "🔸 Data Type         : object\n",
      "❌ Total Null Values : 18301 (4.62%)\n",
      "🔢 Unique Values     : 11\n",
      "################################################################################\n",
      "\n",
      "################################################################################\n",
      "🔹 Column Name       : home_ownership\n",
      "🔸 Data Type         : object\n",
      "❌ Total Null Values : 0 (0.00%)\n",
      "🔢 Unique Values     : 6\n",
      "\n",
      "📊 Value Counts:\n",
      "home_ownership\n",
      "MORTGAGE    198348\n",
      "RENT        159790\n",
      "OWN          37746\n",
      "OTHER          112\n",
      "NONE            31\n",
      "ANY              3\n",
      "Name: count, dtype: int64\n",
      "################################################################################\n",
      "\n",
      "################################################################################\n",
      "🔹 Column Name       : annual_inc\n",
      "🔸 Data Type         : float64\n",
      "❌ Total Null Values : 0 (0.00%)\n",
      "🔢 Unique Values     : 27197\n",
      "################################################################################\n",
      "\n",
      "################################################################################\n",
      "🔹 Column Name       : verification_status\n",
      "🔸 Data Type         : object\n",
      "❌ Total Null Values : 0 (0.00%)\n",
      "🔢 Unique Values     : 3\n",
      "\n",
      "📊 Value Counts:\n",
      "verification_status\n",
      "Verified           139563\n",
      "Source Verified    131385\n",
      "Not Verified       125082\n",
      "Name: count, dtype: int64\n",
      "################################################################################\n",
      "\n",
      "################################################################################\n",
      "🔹 Column Name       : issue_d\n",
      "🔸 Data Type         : object\n",
      "❌ Total Null Values : 0 (0.00%)\n",
      "🔢 Unique Values     : 115\n",
      "################################################################################\n",
      "\n",
      "################################################################################\n",
      "🔹 Column Name       : loan_status\n",
      "🔸 Data Type         : object\n",
      "❌ Total Null Values : 0 (0.00%)\n",
      "🔢 Unique Values     : 2\n",
      "\n",
      "📊 Value Counts:\n",
      "loan_status\n",
      "Fully Paid     318357\n",
      "Charged Off     77673\n",
      "Name: count, dtype: int64\n",
      "################################################################################\n",
      "\n",
      "################################################################################\n",
      "🔹 Column Name       : purpose\n",
      "🔸 Data Type         : object\n",
      "❌ Total Null Values : 0 (0.00%)\n",
      "🔢 Unique Values     : 14\n",
      "################################################################################\n",
      "\n",
      "################################################################################\n",
      "🔹 Column Name       : dti\n",
      "🔸 Data Type         : float64\n",
      "❌ Total Null Values : 0 (0.00%)\n",
      "🔢 Unique Values     : 4262\n",
      "################################################################################\n",
      "\n",
      "################################################################################\n",
      "🔹 Column Name       : earliest_cr_line\n",
      "🔸 Data Type         : object\n",
      "❌ Total Null Values : 0 (0.00%)\n",
      "🔢 Unique Values     : 684\n",
      "################################################################################\n",
      "\n",
      "################################################################################\n",
      "🔹 Column Name       : open_acc\n",
      "🔸 Data Type         : float64\n",
      "❌ Total Null Values : 0 (0.00%)\n",
      "🔢 Unique Values     : 61\n",
      "################################################################################\n",
      "\n",
      "################################################################################\n",
      "🔹 Column Name       : pub_rec\n",
      "🔸 Data Type         : float64\n",
      "❌ Total Null Values : 0 (0.00%)\n",
      "🔢 Unique Values     : 20\n",
      "################################################################################\n",
      "\n",
      "################################################################################\n",
      "🔹 Column Name       : revol_bal\n",
      "🔸 Data Type         : float64\n",
      "❌ Total Null Values : 0 (0.00%)\n",
      "🔢 Unique Values     : 55622\n",
      "################################################################################\n",
      "\n",
      "################################################################################\n",
      "🔹 Column Name       : revol_util\n",
      "🔸 Data Type         : float64\n",
      "❌ Total Null Values : 0 (0.00%)\n",
      "🔢 Unique Values     : 1068\n",
      "################################################################################\n",
      "\n",
      "################################################################################\n",
      "🔹 Column Name       : total_acc\n",
      "🔸 Data Type         : float64\n",
      "❌ Total Null Values : 0 (0.00%)\n",
      "🔢 Unique Values     : 118\n",
      "################################################################################\n",
      "\n",
      "################################################################################\n",
      "🔹 Column Name       : initial_list_status\n",
      "🔸 Data Type         : object\n",
      "❌ Total Null Values : 0 (0.00%)\n",
      "🔢 Unique Values     : 2\n",
      "\n",
      "📊 Value Counts:\n",
      "initial_list_status\n",
      "f    238066\n",
      "w    157964\n",
      "Name: count, dtype: int64\n",
      "################################################################################\n",
      "\n",
      "################################################################################\n",
      "🔹 Column Name       : application_type\n",
      "🔸 Data Type         : object\n",
      "❌ Total Null Values : 0 (0.00%)\n",
      "🔢 Unique Values     : 3\n",
      "\n",
      "📊 Value Counts:\n",
      "application_type\n",
      "INDIVIDUAL    395319\n",
      "JOINT            425\n",
      "DIRECT_PAY       286\n",
      "Name: count, dtype: int64\n",
      "################################################################################\n",
      "\n",
      "################################################################################\n",
      "🔹 Column Name       : mort_acc\n",
      "🔸 Data Type         : float64\n",
      "❌ Total Null Values : 0 (0.00%)\n",
      "🔢 Unique Values     : 33\n",
      "################################################################################\n",
      "\n",
      "################################################################################\n",
      "🔹 Column Name       : pub_rec_bankruptcies\n",
      "🔸 Data Type         : float64\n",
      "❌ Total Null Values : 0 (0.00%)\n",
      "🔢 Unique Values     : 9\n",
      "################################################################################\n",
      "\n",
      "################################################################################\n",
      "🔹 Column Name       : address\n",
      "🔸 Data Type         : object\n",
      "❌ Total Null Values : 0 (0.00%)\n",
      "🔢 Unique Values     : 393700\n",
      "################################################################################\n",
      "\n"
     ]
    }
   ],
   "source": [
    "def column_summary(data, col, uni_len=13):\n",
    "    \"\"\"\n",
    "    Column Summarizer Utility\n",
    "    \n",
    "    Displays key statistics for column in the DataFrame:\n",
    "    - Column name and data type\n",
    "    - Null value count and percentage\n",
    "    - Number of unique values\n",
    "    - Value counts (if column is categorical or has unique values <= uni_lens)\n",
    "    - Descriptive statistics for numerical columns\n",
    "    \n",
    "    Parameters:\n",
    "    - data: Pandas DataFrame\n",
    "    - col: Column name (string)\n",
    "    - uni_lens: Threshold for displaying value counts (int)\n",
    "    \"\"\"\n",
    "    \n",
    "    print(\"##\" * 40)\n",
    "    print(f\"🔹 Column Name       : {col}\")\n",
    "    print(f\"🔸 Data Type         : {data[col].dtype}\")\n",
    "    \n",
    "    total_null = data[col].isnull().sum()\n",
    "    null_percent = (total_null / len(data)) * 100\n",
    "    print(f\"❌ Total Null Values : {total_null} ({null_percent:.2f}%)\")\n",
    "    \n",
    "    unique_vals = data[col].nunique()\n",
    "    print(f\"🔢 Unique Values     : {unique_vals}\")\n",
    "    \n",
    "    # Display unique values and value counts if categorical or low cardinality\n",
    "    if data[col].dtype == 'object' and unique_vals < uni_len:\n",
    "        print(f\"\\n📊 Value Counts:\\n{data[col].value_counts(dropna=False)}\")\n",
    "        \n",
    "    \n",
    "    print(\"##\" * 40 + \"\\n\")\n",
    "\n",
    "# Apply it to all columns\n",
    "for col in data.columns:\n",
    "    column_summary(data, col, uni_len=10)\n"
   ]
  },
  {
   "cell_type": "markdown",
   "id": "6b0dbe78-b9a8-43d9-8fa3-f2b828b91d33",
   "metadata": {},
   "source": [
    "**Let's focus on Categorical Cols first then we will goto numerical columns**\n",
    "1. There are 4 rows and 15 columns/features\n",
    "2. emp_title, emp_length having few null values of 5.79% and 6.46% respectively\n",
    "3. grade has 7 categoies ranging from A to G and subGrade has 35 Unique values\n",
    "4. **Nulls**: Emp title, mort_acc and emp_length, pub_rec_bankruptcies, title(just a few) have ~5% negative values.\n",
    "5. House owner ships has values or categories like Other, None, Any - Need more info\n",
    "6. Verification_status: contains Verified and Source Verified - Is it same or different?\n",
    "7. loan_status: It will be our target variable whether is he able to pay full loan or not.\n",
    "8. Loan is taken for 14 different purposes\n"
   ]
  },
  {
   "cell_type": "markdown",
   "id": "02d47fd6-42cb-49fa-bac7-9688a67955fc",
   "metadata": {},
   "source": [
    "## Feature Engineering & Descriptive Analysis - EDA"
   ]
  },
  {
   "cell_type": "code",
   "execution_count": 93,
   "id": "fc55bb75-e6aa-43ca-ba4d-6f1fa6230240",
   "metadata": {},
   "outputs": [
    {
     "data": {
      "text/plain": [
       "term\n",
       "36    302005\n",
       "60     94025\n",
       "Name: count, dtype: int64"
      ]
     },
     "execution_count": 93,
     "metadata": {},
     "output_type": "execute_result"
    }
   ],
   "source": [
    "## Extract only numbers from the term\n",
    "\n",
    "data['term']= data['term'].str.strip()\n",
    "data['term']= data['term'].str[:2].astype(int)\n",
    "data['term'].value_counts()"
   ]
  },
  {
   "cell_type": "code",
   "execution_count": 94,
   "id": "d6b4e428-7512-4bfd-9b4c-46d9dff5833e",
   "metadata": {},
   "outputs": [
    {
     "data": {
      "image/png": "[encoded data removed]",
      "text/plain": [
       "<Figure size 600x300 with 1 Axes>"
      ]
     },
     "metadata": {},
     "output_type": "display_data"
    }
   ],
   "source": [
    "plt.figure(figsize= (6, 3))\n",
    "plt.title(\"Employment length ValueCounts\")\n",
    "sns.barplot(data['emp_length'].value_counts())\n",
    "plt.xticks(rotation= 45)\n",
    "plt.tight_layout()"
   ]
  },
  {
   "cell_type": "markdown",
   "id": "0fb87702-ed4f-4929-bcab-ecfe4f562cdf",
   "metadata": {},
   "source": [
    "**we have data till 10+ years if just take years from them it might get biased towards the 10 year and ignore if people with years more than 10**<br>\n",
    "**Instead we can create bins and then do the label encoding or target encoding**"
   ]
  },
  {
   "cell_type": "code",
   "execution_count": 96,
   "id": "bbc77912-3cd0-4d89-a799-e2e008fe9274",
   "metadata": {
    "scrolled": true
   },
   "outputs": [
    {
     "data": {
      "text/html": [
       "<div>\n",
       "<style scoped>\n",
       "    .dataframe tbody tr th:only-of-type {\n",
       "        vertical-align: middle;\n",
       "    }\n",
       "\n",
       "    .dataframe tbody tr th {\n",
       "        vertical-align: top;\n",
       "    }\n",
       "\n",
       "    .dataframe thead th {\n",
       "        text-align: right;\n",
       "    }\n",
       "</style>\n",
       "<table border=\"1\" class=\"dataframe\">\n",
       "  <thead>\n",
       "    <tr style=\"text-align: right;\">\n",
       "      <th></th>\n",
       "      <th>emp_length</th>\n",
       "      <th>emp_length_clean</th>\n",
       "      <th>emp_level</th>\n",
       "      <th>count</th>\n",
       "    </tr>\n",
       "  </thead>\n",
       "  <tbody>\n",
       "    <tr>\n",
       "      <th>0</th>\n",
       "      <td>10+ years</td>\n",
       "      <td>10.0</td>\n",
       "      <td>Legend</td>\n",
       "      <td>126041</td>\n",
       "    </tr>\n",
       "    <tr>\n",
       "      <th>1</th>\n",
       "      <td>2 years</td>\n",
       "      <td>2.0</td>\n",
       "      <td>Junior</td>\n",
       "      <td>35827</td>\n",
       "    </tr>\n",
       "    <tr>\n",
       "      <th>2</th>\n",
       "      <td>&lt; 1 year</td>\n",
       "      <td>0.0</td>\n",
       "      <td>Fresher</td>\n",
       "      <td>31725</td>\n",
       "    </tr>\n",
       "    <tr>\n",
       "      <th>3</th>\n",
       "      <td>3 years</td>\n",
       "      <td>3.0</td>\n",
       "      <td>Mid</td>\n",
       "      <td>31665</td>\n",
       "    </tr>\n",
       "    <tr>\n",
       "      <th>4</th>\n",
       "      <td>5 years</td>\n",
       "      <td>5.0</td>\n",
       "      <td>Mid</td>\n",
       "      <td>26495</td>\n",
       "    </tr>\n",
       "    <tr>\n",
       "      <th>5</th>\n",
       "      <td>1 year</td>\n",
       "      <td>1.0</td>\n",
       "      <td>Junior</td>\n",
       "      <td>25882</td>\n",
       "    </tr>\n",
       "    <tr>\n",
       "      <th>6</th>\n",
       "      <td>4 years</td>\n",
       "      <td>4.0</td>\n",
       "      <td>Mid</td>\n",
       "      <td>23952</td>\n",
       "    </tr>\n",
       "    <tr>\n",
       "      <th>7</th>\n",
       "      <td>6 years</td>\n",
       "      <td>6.0</td>\n",
       "      <td>Senior</td>\n",
       "      <td>20841</td>\n",
       "    </tr>\n",
       "    <tr>\n",
       "      <th>8</th>\n",
       "      <td>7 years</td>\n",
       "      <td>7.0</td>\n",
       "      <td>Senior</td>\n",
       "      <td>20819</td>\n",
       "    </tr>\n",
       "    <tr>\n",
       "      <th>9</th>\n",
       "      <td>8 years</td>\n",
       "      <td>8.0</td>\n",
       "      <td>Senior</td>\n",
       "      <td>19168</td>\n",
       "    </tr>\n",
       "    <tr>\n",
       "      <th>10</th>\n",
       "      <td>9 years</td>\n",
       "      <td>9.0</td>\n",
       "      <td>Senior</td>\n",
       "      <td>15314</td>\n",
       "    </tr>\n",
       "  </tbody>\n",
       "</table>\n",
       "</div>"
      ],
      "text/plain": [
       "   emp_length  emp_length_clean emp_level   count\n",
       "0   10+ years              10.0    Legend  126041\n",
       "1     2 years               2.0    Junior   35827\n",
       "2    < 1 year               0.0   Fresher   31725\n",
       "3     3 years               3.0       Mid   31665\n",
       "4     5 years               5.0       Mid   26495\n",
       "5      1 year               1.0    Junior   25882\n",
       "6     4 years               4.0       Mid   23952\n",
       "7     6 years               6.0    Senior   20841\n",
       "8     7 years               7.0    Senior   20819\n",
       "9     8 years               8.0    Senior   19168\n",
       "10    9 years               9.0    Senior   15314"
      ]
     },
     "execution_count": 96,
     "metadata": {},
     "output_type": "execute_result"
    }
   ],
   "source": [
    "## categorizing emp based on their experience\n",
    "\n",
    "def clean_emp_length(val):\n",
    "    if pd.isnull(val):\n",
    "        return np.nan\n",
    "    if '< 1' in val:\n",
    "        return 0\n",
    "    elif '10+' in val:\n",
    "        return 10\n",
    "    else:\n",
    "        return int(val.strip().split()[0])\n",
    "        \n",
    "## emp lenght - check correlation with loanstatus as it has presence of null values\n",
    "\n",
    "data['emp_length_clean'] = data['emp_length'].apply(clean_emp_length)\n",
    "\n",
    "bins = [-1, 0, 2, 5, 9, 10]\n",
    "labels = ['Fresher', 'Junior', 'Mid', 'Senior', 'Legend']\n",
    "\n",
    "data['emp_level'] = pd.cut(data['emp_length_clean'], bins=bins, labels=labels, include_lowest=True)\n",
    "\n",
    "\n",
    "data[['emp_length', 'emp_length_clean', 'emp_level']].value_counts().reset_index()\n"
   ]
  },
  {
   "cell_type": "code",
   "execution_count": 175,
   "id": "17cb6849-5907-45f2-8b13-529a8044929b",
   "metadata": {},
   "outputs": [
    {
     "data": {
      "text/html": [
       "<div>\n",
       "<style scoped>\n",
       "    .dataframe tbody tr th:only-of-type {\n",
       "        vertical-align: middle;\n",
       "    }\n",
       "\n",
       "    .dataframe tbody tr th {\n",
       "        vertical-align: top;\n",
       "    }\n",
       "\n",
       "    .dataframe thead th {\n",
       "        text-align: right;\n",
       "    }\n",
       "</style>\n",
       "<table border=\"1\" class=\"dataframe\">\n",
       "  <thead>\n",
       "    <tr style=\"text-align: right;\">\n",
       "      <th></th>\n",
       "      <th>emp_length_clean</th>\n",
       "      <th>loan_status</th>\n",
       "    </tr>\n",
       "  </thead>\n",
       "  <tbody>\n",
       "    <tr>\n",
       "      <th>emp_length_clean</th>\n",
       "      <td>1.000000</td>\n",
       "      <td>0.013734</td>\n",
       "    </tr>\n",
       "    <tr>\n",
       "      <th>loan_status</th>\n",
       "      <td>0.013734</td>\n",
       "      <td>1.000000</td>\n",
       "    </tr>\n",
       "  </tbody>\n",
       "</table>\n",
       "</div>"
      ],
      "text/plain": [
       "                  emp_length_clean  loan_status\n",
       "emp_length_clean          1.000000     0.013734\n",
       "loan_status               0.013734     1.000000"
      ]
     },
     "execution_count": 175,
     "metadata": {},
     "output_type": "execute_result"
    }
   ],
   "source": [
    "data[['emp_length_clean', 'loan_status']].corr()"
   ]
  },
  {
   "cell_type": "code",
   "execution_count": 97,
   "id": "b17611f3-9439-4491-ab45-ba6203f0deda",
   "metadata": {},
   "outputs": [
    {
     "data": {
      "image/png": "[encoded data removed]",
      "text/plain": [
       "<Figure size 600x300 with 1 Axes>"
      ]
     },
     "metadata": {},
     "output_type": "display_data"
    }
   ],
   "source": [
    "plt.figure(figsize= (6, 3))\n",
    "plt.title(\"Employment length ValueCounts\")\n",
    "sns.barplot(data['emp_level'].value_counts())\n",
    "# plt.xticks(rotation= 45)\n",
    "plt.tight_layout()"
   ]
  },
  {
   "cell_type": "markdown",
   "id": "5c19219f-a9eb-4237-9e0a-10e3846effae",
   "metadata": {},
   "source": [
    "**Employees with experience more than 10 years, after them 2-5 years of experienced ones took most number of loans**"
   ]
  },
  {
   "cell_type": "code",
   "execution_count": 99,
   "id": "62ec9865-835a-4b1b-becb-a0c2111fe2d9",
   "metadata": {},
   "outputs": [
    {
     "data": {
      "text/plain": [
       "verification_status\n",
       "1    270948\n",
       "0    125082\n",
       "Name: count, dtype: int64"
      ]
     },
     "execution_count": 99,
     "metadata": {},
     "output_type": "execute_result"
    }
   ],
   "source": [
    "# Verification status: combime source verified and verified and assign 0 and 1\n",
    "\n",
    "data[\"verification_status\"] = data['verification_status'].replace({\n",
    "    \"Verified\": 1,\n",
    "    \"Source Verified\": 1,\n",
    "    \"Not Verified\": 0\n",
    "})\n",
    "data[\"verification_status\"].astype(\"category\")\n",
    "data[\"verification_status\"].value_counts()"
   ]
  },
  {
   "cell_type": "code",
   "execution_count": 100,
   "id": "ba287e08-a6bf-47f9-9ad6-c45892720528",
   "metadata": {},
   "outputs": [
    {
     "data": {
      "text/plain": [
       "loan_status\n",
       "1    318357\n",
       "0     77673\n",
       "Name: count, dtype: int64"
      ]
     },
     "execution_count": 100,
     "metadata": {},
     "output_type": "execute_result"
    }
   ],
   "source": [
    "# Loan status - since it is the target var - let's change to binary values\n",
    "\n",
    "data['loan_status'] = data['loan_status'].replace({\n",
    "    \"Fully Paid\": 1,\n",
    "    \"Charged Off\" : 0\n",
    "})\n",
    "data['loan_status'] = data['loan_status'].astype(\"category\")\n",
    "data['loan_status'].value_counts()"
   ]
  },
  {
   "cell_type": "code",
   "execution_count": 101,
   "id": "308395e0-2400-4453-befb-08d095710c69",
   "metadata": {},
   "outputs": [
    {
     "name": "stdout",
     "output_type": "stream",
     "text": [
      "<class 'pandas.core.frame.DataFrame'>\n",
      "RangeIndex: 396030 entries, 0 to 396029\n",
      "Data columns (total 2 columns):\n",
      " #   Column            Non-Null Count   Dtype         \n",
      "---  ------            --------------   -----         \n",
      " 0   issue_d           396030 non-null  datetime64[ns]\n",
      " 1   earliest_cr_line  396030 non-null  datetime64[ns]\n",
      "dtypes: datetime64[ns](2)\n",
      "memory usage: 6.0 MB\n"
     ]
    }
   ],
   "source": [
    "# Converting issue_d into time data frame\n",
    "data[\"issue_d\"]= pd.to_datetime(data[\"issue_d\"])\n",
    "data[\"earliest_cr_line\"]= pd.to_datetime(data[\"earliest_cr_line\"])\n",
    "\n",
    "data[[\"issue_d\", \"earliest_cr_line\"]].info()"
   ]
  },
  {
   "cell_type": "code",
   "execution_count": 102,
   "id": "4e56ced0-8f08-4b3f-88da-36ff7d4e1ce1",
   "metadata": {},
   "outputs": [
    {
     "data": {
      "text/html": [
       "<div>\n",
       "<style scoped>\n",
       "    .dataframe tbody tr th:only-of-type {\n",
       "        vertical-align: middle;\n",
       "    }\n",
       "\n",
       "    .dataframe tbody tr th {\n",
       "        vertical-align: top;\n",
       "    }\n",
       "\n",
       "    .dataframe thead th {\n",
       "        text-align: right;\n",
       "    }\n",
       "</style>\n",
       "<table border=\"1\" class=\"dataframe\">\n",
       "  <thead>\n",
       "    <tr style=\"text-align: right;\">\n",
       "      <th></th>\n",
       "      <th>issue_d</th>\n",
       "      <th>earliest_cr_line</th>\n",
       "    </tr>\n",
       "  </thead>\n",
       "  <tbody>\n",
       "    <tr>\n",
       "      <th>0</th>\n",
       "      <td>2015-01-01</td>\n",
       "      <td>1990-06-01</td>\n",
       "    </tr>\n",
       "    <tr>\n",
       "      <th>1</th>\n",
       "      <td>2015-01-01</td>\n",
       "      <td>2004-07-01</td>\n",
       "    </tr>\n",
       "    <tr>\n",
       "      <th>2</th>\n",
       "      <td>2015-01-01</td>\n",
       "      <td>2007-08-01</td>\n",
       "    </tr>\n",
       "    <tr>\n",
       "      <th>3</th>\n",
       "      <td>2014-11-01</td>\n",
       "      <td>2006-09-01</td>\n",
       "    </tr>\n",
       "    <tr>\n",
       "      <th>4</th>\n",
       "      <td>2013-04-01</td>\n",
       "      <td>1999-03-01</td>\n",
       "    </tr>\n",
       "  </tbody>\n",
       "</table>\n",
       "</div>"
      ],
      "text/plain": [
       "     issue_d earliest_cr_line\n",
       "0 2015-01-01       1990-06-01\n",
       "1 2015-01-01       2004-07-01\n",
       "2 2015-01-01       2007-08-01\n",
       "3 2014-11-01       2006-09-01\n",
       "4 2013-04-01       1999-03-01"
      ]
     },
     "execution_count": 102,
     "metadata": {},
     "output_type": "execute_result"
    }
   ],
   "source": [
    "data[[\"issue_d\", \"earliest_cr_line\"]].head()"
   ]
  },
  {
   "cell_type": "markdown",
   "id": "7a3796b2-9900-42ee-9577-c4a73fd9f200",
   "metadata": {},
   "source": [
    "**`issue_d`**: it is the year when the loan is issued to the person\n",
    "\n",
    "**`earliest_cr_line`**: it tells about the person when the person got issued his first credit card - basically credit age - can be calculated by subtracting current year from earliest_cr_line_year"
   ]
  },
  {
   "cell_type": "code",
   "execution_count": 104,
   "id": "f6000d41-7798-40d8-8200-65fefb1e82b6",
   "metadata": {},
   "outputs": [
    {
     "data": {
      "text/html": [
       "<div>\n",
       "<style scoped>\n",
       "    .dataframe tbody tr th:only-of-type {\n",
       "        vertical-align: middle;\n",
       "    }\n",
       "\n",
       "    .dataframe tbody tr th {\n",
       "        vertical-align: top;\n",
       "    }\n",
       "\n",
       "    .dataframe thead th {\n",
       "        text-align: right;\n",
       "    }\n",
       "</style>\n",
       "<table border=\"1\" class=\"dataframe\">\n",
       "  <thead>\n",
       "    <tr style=\"text-align: right;\">\n",
       "      <th></th>\n",
       "      <th>issue_d</th>\n",
       "      <th>issue_d_year</th>\n",
       "      <th>earliest_cr_line</th>\n",
       "      <th>earliest_cr_line_year</th>\n",
       "    </tr>\n",
       "  </thead>\n",
       "  <tbody>\n",
       "    <tr>\n",
       "      <th>0</th>\n",
       "      <td>2015-01-01</td>\n",
       "      <td>2015</td>\n",
       "      <td>1990-06-01</td>\n",
       "      <td>1990</td>\n",
       "    </tr>\n",
       "    <tr>\n",
       "      <th>1</th>\n",
       "      <td>2015-01-01</td>\n",
       "      <td>2015</td>\n",
       "      <td>2004-07-01</td>\n",
       "      <td>2004</td>\n",
       "    </tr>\n",
       "    <tr>\n",
       "      <th>2</th>\n",
       "      <td>2015-01-01</td>\n",
       "      <td>2015</td>\n",
       "      <td>2007-08-01</td>\n",
       "      <td>2007</td>\n",
       "    </tr>\n",
       "    <tr>\n",
       "      <th>3</th>\n",
       "      <td>2014-11-01</td>\n",
       "      <td>2014</td>\n",
       "      <td>2006-09-01</td>\n",
       "      <td>2006</td>\n",
       "    </tr>\n",
       "    <tr>\n",
       "      <th>4</th>\n",
       "      <td>2013-04-01</td>\n",
       "      <td>2013</td>\n",
       "      <td>1999-03-01</td>\n",
       "      <td>1999</td>\n",
       "    </tr>\n",
       "  </tbody>\n",
       "</table>\n",
       "</div>"
      ],
      "text/plain": [
       "     issue_d  issue_d_year earliest_cr_line  earliest_cr_line_year\n",
       "0 2015-01-01          2015       1990-06-01                   1990\n",
       "1 2015-01-01          2015       2004-07-01                   2004\n",
       "2 2015-01-01          2015       2007-08-01                   2007\n",
       "3 2014-11-01          2014       2006-09-01                   2006\n",
       "4 2013-04-01          2013       1999-03-01                   1999"
      ]
     },
     "execution_count": 104,
     "metadata": {},
     "output_type": "execute_result"
    }
   ],
   "source": [
    "# data[\"issue_d_month\"] = data[\"issue_d\"].dt.month # Since we do not need months as they are irrelevant\n",
    "data[\"issue_d_year\"] = data[\"issue_d\"].dt.year\n",
    "\n",
    "# data[\"earliest_cr_line_month\"] = data[\"earliest_cr_line\"].dt.month\n",
    "data[\"earliest_cr_line_year\"] = data[\"earliest_cr_line\"].dt.year\n",
    "\n",
    "\n",
    "data[[\"issue_d\", \"issue_d_year\", \"earliest_cr_line\", \"earliest_cr_line_year\"]].head()"
   ]
  },
  {
   "cell_type": "code",
   "execution_count": 105,
   "id": "68d14ba6-063e-4dcd-a0a2-8ee3bfd84f71",
   "metadata": {},
   "outputs": [
    {
     "data": {
      "text/plain": [
       "issue_d                  115\n",
       "issue_d_year              10\n",
       "earliest_cr_line         684\n",
       "earliest_cr_line_year     65\n",
       "dtype: int64"
      ]
     },
     "execution_count": 105,
     "metadata": {},
     "output_type": "execute_result"
    }
   ],
   "source": [
    "data[[\"issue_d\", \"issue_d_year\", \"earliest_cr_line\", \"earliest_cr_line_year\"]].nunique()"
   ]
  },
  {
   "cell_type": "code",
   "execution_count": 106,
   "id": "07b74746-0357-4223-a020-dec594d33eeb",
   "metadata": {},
   "outputs": [
    {
     "data": {
      "text/plain": [
       "0       0174 Michelle Gateway\\r\\nMendozaberg, OK 22690\n",
       "1    1076 Carney Fort Apt. 347\\r\\nLoganmouth, SD 05113\n",
       "2    87025 Mark Dale Apt. 269\\r\\nNew Sabrina, WV 05113\n",
       "3              823 Reid Ford\\r\\nDelacruzside, MA 00813\n",
       "4               679 Luna Roads\\r\\nGreggshire, VA 11650\n",
       "Name: address, dtype: object"
      ]
     },
     "execution_count": 106,
     "metadata": {},
     "output_type": "execute_result"
    }
   ],
   "source": [
    "data['address'].head()"
   ]
  },
  {
   "cell_type": "code",
   "execution_count": 107,
   "id": "29dfc141-383b-4699-9480-7bf9411a8211",
   "metadata": {},
   "outputs": [
    {
     "data": {
      "text/plain": [
       "pincode\n",
       "70466    56985\n",
       "30723    56546\n",
       "22690    56527\n",
       "48052    55917\n",
       "00813    45824\n",
       "29597    45471\n",
       "05113    45402\n",
       "11650    11226\n",
       "93700    11151\n",
       "86630    10981\n",
       "Name: count, dtype: int64"
      ]
     },
     "execution_count": 107,
     "metadata": {},
     "output_type": "execute_result"
    }
   ],
   "source": [
    "# GETTING JUST THE PIN CODE FROM THE ADDRESS AS TOTAL ADDRESS IS IRRELEVANT\n",
    "\n",
    "data['pincode']= data['address'].str[-6:].astype(\"object\")\n",
    "data['pincode'].value_counts()"
   ]
  },
  {
   "cell_type": "code",
   "execution_count": 108,
   "id": "3846fcf9-dc3c-43d7-acdd-2a6f77978591",
   "metadata": {},
   "outputs": [
    {
     "data": {
      "text/plain": [
       "Index(['loan_amnt', 'term', 'int_rate', 'installment', 'grade', 'sub_grade',\n",
       "       'emp_length', 'home_ownership', 'annual_inc', 'verification_status',\n",
       "       'issue_d', 'loan_status', 'purpose', 'dti', 'earliest_cr_line',\n",
       "       'open_acc', 'pub_rec', 'revol_bal', 'revol_util', 'total_acc',\n",
       "       'initial_list_status', 'application_type', 'mort_acc',\n",
       "       'pub_rec_bankruptcies', 'emp_length_clean', 'emp_level', 'issue_d_year',\n",
       "       'earliest_cr_line_year', 'pincode'],\n",
       "      dtype='object')"
      ]
     },
     "execution_count": 108,
     "metadata": {},
     "output_type": "execute_result"
    }
   ],
   "source": [
    "## we can drop the address now\n",
    "\n",
    "data.drop([\"address\"],axis= 1, inplace= True)\n",
    "data.columns"
   ]
  },
  {
   "cell_type": "markdown",
   "id": "294b5f4d-b1d9-409a-9302-5cc79f4c8bb7",
   "metadata": {},
   "source": [
    "#### If a applicant has any pub_rec, mort_acc, pub_rec_bankruptcies then it is a negative sign even one of then is more than 0 or 1. in order to make it more robust we can convert them into binary values."
   ]
  },
  {
   "cell_type": "code",
   "execution_count": 110,
   "id": "fd6c095d-ffe3-4708-b620-336f8286a75f",
   "metadata": {},
   "outputs": [
    {
     "data": {
      "text/plain": [
       "pub_rec                 20\n",
       "mort_acc                33\n",
       "pub_rec_bankruptcies     9\n",
       "dtype: int64"
      ]
     },
     "execution_count": 110,
     "metadata": {},
     "output_type": "execute_result"
    }
   ],
   "source": [
    "cols = ['pub_rec', 'mort_acc', \"pub_rec_bankruptcies\"]\n",
    "data[cols].nunique()"
   ]
  },
  {
   "cell_type": "code",
   "execution_count": 111,
   "id": "3fa15e1b-7446-41c2-9dbd-6ec7e5f4f2f5",
   "metadata": {},
   "outputs": [
    {
     "data": {
      "text/html": [
       "<div>\n",
       "<style scoped>\n",
       "    .dataframe tbody tr th:only-of-type {\n",
       "        vertical-align: middle;\n",
       "    }\n",
       "\n",
       "    .dataframe tbody tr th {\n",
       "        vertical-align: top;\n",
       "    }\n",
       "\n",
       "    .dataframe thead th {\n",
       "        text-align: right;\n",
       "    }\n",
       "</style>\n",
       "<table border=\"1\" class=\"dataframe\">\n",
       "  <thead>\n",
       "    <tr style=\"text-align: right;\">\n",
       "      <th></th>\n",
       "      <th>pub_rec</th>\n",
       "      <th>count</th>\n",
       "    </tr>\n",
       "  </thead>\n",
       "  <tbody>\n",
       "    <tr>\n",
       "      <th>0</th>\n",
       "      <td>0.0</td>\n",
       "      <td>338272</td>\n",
       "    </tr>\n",
       "    <tr>\n",
       "      <th>1</th>\n",
       "      <td>1.0</td>\n",
       "      <td>57758</td>\n",
       "    </tr>\n",
       "  </tbody>\n",
       "</table>\n",
       "</div>"
      ],
      "text/plain": [
       "   pub_rec   count\n",
       "0      0.0  338272\n",
       "1      1.0   57758"
      ]
     },
     "execution_count": 111,
     "metadata": {},
     "output_type": "execute_result"
    }
   ],
   "source": [
    "## data['pub_rec']:  Derogatory public records are those that contain negative information such as bankruptcies, suits, and liens\n",
    "\n",
    "data['pub_rec'][data['pub_rec'] > 0] = 1\n",
    "data['pub_rec'].value_counts().reset_index()"
   ]
  },
  {
   "cell_type": "code",
   "execution_count": 112,
   "id": "c9010581-39de-438b-bf88-723e47be3fa9",
   "metadata": {},
   "outputs": [
    {
     "data": {
      "text/plain": [
       "mort_acc\n",
       "1.0    218458\n",
       "0.0    177572\n",
       "Name: count, dtype: int64"
      ]
     },
     "execution_count": 112,
     "metadata": {},
     "output_type": "execute_result"
    }
   ],
   "source": [
    "data['mort_acc'][data['mort_acc'] > 0] = 1\n",
    "data['mort_acc'].value_counts()"
   ]
  },
  {
   "cell_type": "code",
   "execution_count": 113,
   "id": "b6165e33-c285-486f-bd00-33b60d0afb8f",
   "metadata": {},
   "outputs": [
    {
     "data": {
      "text/plain": [
       "pub_rec_bankruptcies\n",
       "0.0    350915\n",
       "1.0     45115\n",
       "Name: count, dtype: int64"
      ]
     },
     "execution_count": 113,
     "metadata": {},
     "output_type": "execute_result"
    }
   ],
   "source": [
    "data['pub_rec_bankruptcies'][data['pub_rec_bankruptcies'] > 0] = 1\n",
    "data['pub_rec_bankruptcies'].value_counts()"
   ]
  },
  {
   "cell_type": "code",
   "execution_count": 114,
   "id": "28be756a-3a2e-4745-97a2-e8e1342039b8",
   "metadata": {},
   "outputs": [
    {
     "data": {
      "image/png": "[encoded data removed]",
      "text/plain": [
       "<Figure size 800x800 with 3 Axes>"
      ]
     },
     "metadata": {},
     "output_type": "display_data"
    }
   ],
   "source": [
    "plt.figure(figsize= (8, 8))\n",
    "\n",
    "for i, col in enumerate(cols, 1):\n",
    "    plt.subplot(3, 1, i)\n",
    "    sns.barplot(data[col].value_counts().reset_index(), y =col, x= \"count\", orient= \"h\")\n",
    "    plt.title(f\"Data distribution of {col}\")\n",
    "\n",
    "plt.tight_layout()\n",
    "plt.show()"
   ]
  },
  {
   "cell_type": "code",
   "execution_count": 115,
   "id": "0fd93408-2594-4284-836c-59d9551d3162",
   "metadata": {},
   "outputs": [
    {
     "data": {
      "text/html": [
       "<div>\n",
       "<style scoped>\n",
       "    .dataframe tbody tr th:only-of-type {\n",
       "        vertical-align: middle;\n",
       "    }\n",
       "\n",
       "    .dataframe tbody tr th {\n",
       "        vertical-align: top;\n",
       "    }\n",
       "\n",
       "    .dataframe thead th {\n",
       "        text-align: right;\n",
       "    }\n",
       "</style>\n",
       "<table border=\"1\" class=\"dataframe\">\n",
       "  <thead>\n",
       "    <tr style=\"text-align: right;\">\n",
       "      <th></th>\n",
       "      <th>grade</th>\n",
       "      <th>sub_grade</th>\n",
       "      <th>emp_length</th>\n",
       "      <th>home_ownership</th>\n",
       "      <th>purpose</th>\n",
       "      <th>initial_list_status</th>\n",
       "      <th>application_type</th>\n",
       "      <th>pincode</th>\n",
       "    </tr>\n",
       "  </thead>\n",
       "  <tbody>\n",
       "    <tr>\n",
       "      <th>count</th>\n",
       "      <td>396030</td>\n",
       "      <td>396030</td>\n",
       "      <td>377729</td>\n",
       "      <td>396030</td>\n",
       "      <td>396030</td>\n",
       "      <td>396030</td>\n",
       "      <td>396030</td>\n",
       "      <td>396030</td>\n",
       "    </tr>\n",
       "    <tr>\n",
       "      <th>unique</th>\n",
       "      <td>7</td>\n",
       "      <td>35</td>\n",
       "      <td>11</td>\n",
       "      <td>6</td>\n",
       "      <td>14</td>\n",
       "      <td>2</td>\n",
       "      <td>3</td>\n",
       "      <td>10</td>\n",
       "    </tr>\n",
       "    <tr>\n",
       "      <th>top</th>\n",
       "      <td>B</td>\n",
       "      <td>B3</td>\n",
       "      <td>10+ years</td>\n",
       "      <td>MORTGAGE</td>\n",
       "      <td>debt_consolidation</td>\n",
       "      <td>f</td>\n",
       "      <td>INDIVIDUAL</td>\n",
       "      <td>70466</td>\n",
       "    </tr>\n",
       "    <tr>\n",
       "      <th>freq</th>\n",
       "      <td>116018</td>\n",
       "      <td>26655</td>\n",
       "      <td>126041</td>\n",
       "      <td>198348</td>\n",
       "      <td>234507</td>\n",
       "      <td>238066</td>\n",
       "      <td>395319</td>\n",
       "      <td>56985</td>\n",
       "    </tr>\n",
       "  </tbody>\n",
       "</table>\n",
       "</div>"
      ],
      "text/plain": [
       "         grade sub_grade emp_length home_ownership             purpose  \\\n",
       "count   396030    396030     377729         396030              396030   \n",
       "unique       7        35         11              6                  14   \n",
       "top          B        B3  10+ years       MORTGAGE  debt_consolidation   \n",
       "freq    116018     26655     126041         198348              234507   \n",
       "\n",
       "       initial_list_status application_type pincode  \n",
       "count               396030           396030  396030  \n",
       "unique                   2                3      10  \n",
       "top                      f       INDIVIDUAL   70466  \n",
       "freq                238066           395319   56985  "
      ]
     },
     "execution_count": 115,
     "metadata": {},
     "output_type": "execute_result"
    }
   ],
   "source": [
    "data.describe(include= \"object\" )"
   ]
  },
  {
   "cell_type": "code",
   "execution_count": 116,
   "id": "64c048af-fd48-4dcd-a731-3396e1211653",
   "metadata": {},
   "outputs": [
    {
     "data": {
      "text/html": [
       "<div>\n",
       "<style scoped>\n",
       "    .dataframe tbody tr th:only-of-type {\n",
       "        vertical-align: middle;\n",
       "    }\n",
       "\n",
       "    .dataframe tbody tr th {\n",
       "        vertical-align: top;\n",
       "    }\n",
       "\n",
       "    .dataframe thead th {\n",
       "        text-align: right;\n",
       "    }\n",
       "</style>\n",
       "<table border=\"1\" class=\"dataframe\">\n",
       "  <thead>\n",
       "    <tr style=\"text-align: right;\">\n",
       "      <th></th>\n",
       "      <th>loan_amnt</th>\n",
       "      <th>term</th>\n",
       "      <th>int_rate</th>\n",
       "      <th>installment</th>\n",
       "      <th>annual_inc</th>\n",
       "      <th>verification_status</th>\n",
       "      <th>issue_d</th>\n",
       "      <th>dti</th>\n",
       "      <th>earliest_cr_line</th>\n",
       "      <th>open_acc</th>\n",
       "      <th>pub_rec</th>\n",
       "      <th>revol_bal</th>\n",
       "      <th>revol_util</th>\n",
       "      <th>total_acc</th>\n",
       "      <th>mort_acc</th>\n",
       "      <th>pub_rec_bankruptcies</th>\n",
       "      <th>emp_length_clean</th>\n",
       "      <th>issue_d_year</th>\n",
       "      <th>earliest_cr_line_year</th>\n",
       "    </tr>\n",
       "  </thead>\n",
       "  <tbody>\n",
       "    <tr>\n",
       "      <th>count</th>\n",
       "      <td>396030.000000</td>\n",
       "      <td>396030.000000</td>\n",
       "      <td>396030.000000</td>\n",
       "      <td>396030.000000</td>\n",
       "      <td>3.960300e+05</td>\n",
       "      <td>396030.00000</td>\n",
       "      <td>396030</td>\n",
       "      <td>396030.000000</td>\n",
       "      <td>396030</td>\n",
       "      <td>396030.000000</td>\n",
       "      <td>396030.000000</td>\n",
       "      <td>3.960300e+05</td>\n",
       "      <td>396030.000000</td>\n",
       "      <td>396030.000000</td>\n",
       "      <td>396030.000000</td>\n",
       "      <td>396030.000000</td>\n",
       "      <td>377729.000000</td>\n",
       "      <td>396030.000000</td>\n",
       "      <td>396030.000000</td>\n",
       "    </tr>\n",
       "    <tr>\n",
       "      <th>mean</th>\n",
       "      <td>14113.888089</td>\n",
       "      <td>41.698053</td>\n",
       "      <td>13.639400</td>\n",
       "      <td>431.849698</td>\n",
       "      <td>7.420318e+04</td>\n",
       "      <td>0.68416</td>\n",
       "      <td>2014-02-02 15:57:58.045602560</td>\n",
       "      <td>17.379514</td>\n",
       "      <td>1998-05-03 09:34:15.062495488</td>\n",
       "      <td>11.311153</td>\n",
       "      <td>0.145842</td>\n",
       "      <td>1.584454e+04</td>\n",
       "      <td>53.791993</td>\n",
       "      <td>25.414744</td>\n",
       "      <td>0.551620</td>\n",
       "      <td>0.113918</td>\n",
       "      <td>5.938578</td>\n",
       "      <td>2013.629074</td>\n",
       "      <td>1997.857667</td>\n",
       "    </tr>\n",
       "    <tr>\n",
       "      <th>min</th>\n",
       "      <td>500.000000</td>\n",
       "      <td>36.000000</td>\n",
       "      <td>5.320000</td>\n",
       "      <td>16.080000</td>\n",
       "      <td>0.000000e+00</td>\n",
       "      <td>0.00000</td>\n",
       "      <td>2007-06-01 00:00:00</td>\n",
       "      <td>0.000000</td>\n",
       "      <td>1944-01-01 00:00:00</td>\n",
       "      <td>0.000000</td>\n",
       "      <td>0.000000</td>\n",
       "      <td>0.000000e+00</td>\n",
       "      <td>1.000000</td>\n",
       "      <td>2.000000</td>\n",
       "      <td>0.000000</td>\n",
       "      <td>0.000000</td>\n",
       "      <td>0.000000</td>\n",
       "      <td>2007.000000</td>\n",
       "      <td>1944.000000</td>\n",
       "    </tr>\n",
       "    <tr>\n",
       "      <th>25%</th>\n",
       "      <td>8000.000000</td>\n",
       "      <td>36.000000</td>\n",
       "      <td>10.490000</td>\n",
       "      <td>250.330000</td>\n",
       "      <td>4.500000e+04</td>\n",
       "      <td>0.00000</td>\n",
       "      <td>2013-05-01 00:00:00</td>\n",
       "      <td>11.280000</td>\n",
       "      <td>1994-10-01 00:00:00</td>\n",
       "      <td>8.000000</td>\n",
       "      <td>0.000000</td>\n",
       "      <td>6.025000e+03</td>\n",
       "      <td>35.900000</td>\n",
       "      <td>17.000000</td>\n",
       "      <td>0.000000</td>\n",
       "      <td>0.000000</td>\n",
       "      <td>3.000000</td>\n",
       "      <td>2013.000000</td>\n",
       "      <td>1994.000000</td>\n",
       "    </tr>\n",
       "    <tr>\n",
       "      <th>50%</th>\n",
       "      <td>12000.000000</td>\n",
       "      <td>36.000000</td>\n",
       "      <td>13.330000</td>\n",
       "      <td>375.430000</td>\n",
       "      <td>6.400000e+04</td>\n",
       "      <td>1.00000</td>\n",
       "      <td>2014-04-01 00:00:00</td>\n",
       "      <td>16.910000</td>\n",
       "      <td>1999-09-01 00:00:00</td>\n",
       "      <td>10.000000</td>\n",
       "      <td>0.000000</td>\n",
       "      <td>1.118100e+04</td>\n",
       "      <td>54.800000</td>\n",
       "      <td>24.000000</td>\n",
       "      <td>1.000000</td>\n",
       "      <td>0.000000</td>\n",
       "      <td>6.000000</td>\n",
       "      <td>2014.000000</td>\n",
       "      <td>1999.000000</td>\n",
       "    </tr>\n",
       "    <tr>\n",
       "      <th>75%</th>\n",
       "      <td>20000.000000</td>\n",
       "      <td>36.000000</td>\n",
       "      <td>16.490000</td>\n",
       "      <td>567.300000</td>\n",
       "      <td>9.000000e+04</td>\n",
       "      <td>1.00000</td>\n",
       "      <td>2015-03-01 00:00:00</td>\n",
       "      <td>22.980000</td>\n",
       "      <td>2003-04-01 00:00:00</td>\n",
       "      <td>14.000000</td>\n",
       "      <td>0.000000</td>\n",
       "      <td>1.962000e+04</td>\n",
       "      <td>72.900000</td>\n",
       "      <td>32.000000</td>\n",
       "      <td>1.000000</td>\n",
       "      <td>0.000000</td>\n",
       "      <td>10.000000</td>\n",
       "      <td>2015.000000</td>\n",
       "      <td>2003.000000</td>\n",
       "    </tr>\n",
       "    <tr>\n",
       "      <th>max</th>\n",
       "      <td>40000.000000</td>\n",
       "      <td>60.000000</td>\n",
       "      <td>30.990000</td>\n",
       "      <td>1533.810000</td>\n",
       "      <td>8.706582e+06</td>\n",
       "      <td>1.00000</td>\n",
       "      <td>2016-12-01 00:00:00</td>\n",
       "      <td>9999.000000</td>\n",
       "      <td>2013-10-01 00:00:00</td>\n",
       "      <td>90.000000</td>\n",
       "      <td>1.000000</td>\n",
       "      <td>1.743266e+06</td>\n",
       "      <td>102.000000</td>\n",
       "      <td>151.000000</td>\n",
       "      <td>1.000000</td>\n",
       "      <td>1.000000</td>\n",
       "      <td>10.000000</td>\n",
       "      <td>2016.000000</td>\n",
       "      <td>2013.000000</td>\n",
       "    </tr>\n",
       "    <tr>\n",
       "      <th>std</th>\n",
       "      <td>8357.441341</td>\n",
       "      <td>10.212038</td>\n",
       "      <td>4.472157</td>\n",
       "      <td>250.727790</td>\n",
       "      <td>6.163762e+04</td>\n",
       "      <td>0.46485</td>\n",
       "      <td>NaN</td>\n",
       "      <td>18.019092</td>\n",
       "      <td>NaN</td>\n",
       "      <td>5.137649</td>\n",
       "      <td>0.352949</td>\n",
       "      <td>2.059184e+04</td>\n",
       "      <td>24.377588</td>\n",
       "      <td>11.886991</td>\n",
       "      <td>0.497329</td>\n",
       "      <td>0.317712</td>\n",
       "      <td>3.645623</td>\n",
       "      <td>1.481725</td>\n",
       "      <td>7.198387</td>\n",
       "    </tr>\n",
       "  </tbody>\n",
       "</table>\n",
       "</div>"
      ],
      "text/plain": [
       "           loan_amnt           term       int_rate    installment  \\\n",
       "count  396030.000000  396030.000000  396030.000000  396030.000000   \n",
       "mean    14113.888089      41.698053      13.639400     431.849698   \n",
       "min       500.000000      36.000000       5.320000      16.080000   \n",
       "25%      8000.000000      36.000000      10.490000     250.330000   \n",
       "50%     12000.000000      36.000000      13.330000     375.430000   \n",
       "75%     20000.000000      36.000000      16.490000     567.300000   \n",
       "max     40000.000000      60.000000      30.990000    1533.810000   \n",
       "std      8357.441341      10.212038       4.472157     250.727790   \n",
       "\n",
       "         annual_inc  verification_status                        issue_d  \\\n",
       "count  3.960300e+05         396030.00000                         396030   \n",
       "mean   7.420318e+04              0.68416  2014-02-02 15:57:58.045602560   \n",
       "min    0.000000e+00              0.00000            2007-06-01 00:00:00   \n",
       "25%    4.500000e+04              0.00000            2013-05-01 00:00:00   \n",
       "50%    6.400000e+04              1.00000            2014-04-01 00:00:00   \n",
       "75%    9.000000e+04              1.00000            2015-03-01 00:00:00   \n",
       "max    8.706582e+06              1.00000            2016-12-01 00:00:00   \n",
       "std    6.163762e+04              0.46485                            NaN   \n",
       "\n",
       "                 dti               earliest_cr_line       open_acc  \\\n",
       "count  396030.000000                         396030  396030.000000   \n",
       "mean       17.379514  1998-05-03 09:34:15.062495488      11.311153   \n",
       "min         0.000000            1944-01-01 00:00:00       0.000000   \n",
       "25%        11.280000            1994-10-01 00:00:00       8.000000   \n",
       "50%        16.910000            1999-09-01 00:00:00      10.000000   \n",
       "75%        22.980000            2003-04-01 00:00:00      14.000000   \n",
       "max      9999.000000            2013-10-01 00:00:00      90.000000   \n",
       "std        18.019092                            NaN       5.137649   \n",
       "\n",
       "             pub_rec     revol_bal     revol_util      total_acc  \\\n",
       "count  396030.000000  3.960300e+05  396030.000000  396030.000000   \n",
       "mean        0.145842  1.584454e+04      53.791993      25.414744   \n",
       "min         0.000000  0.000000e+00       1.000000       2.000000   \n",
       "25%         0.000000  6.025000e+03      35.900000      17.000000   \n",
       "50%         0.000000  1.118100e+04      54.800000      24.000000   \n",
       "75%         0.000000  1.962000e+04      72.900000      32.000000   \n",
       "max         1.000000  1.743266e+06     102.000000     151.000000   \n",
       "std         0.352949  2.059184e+04      24.377588      11.886991   \n",
       "\n",
       "            mort_acc  pub_rec_bankruptcies  emp_length_clean   issue_d_year  \\\n",
       "count  396030.000000         396030.000000     377729.000000  396030.000000   \n",
       "mean        0.551620              0.113918          5.938578    2013.629074   \n",
       "min         0.000000              0.000000          0.000000    2007.000000   \n",
       "25%         0.000000              0.000000          3.000000    2013.000000   \n",
       "50%         1.000000              0.000000          6.000000    2014.000000   \n",
       "75%         1.000000              0.000000         10.000000    2015.000000   \n",
       "max         1.000000              1.000000         10.000000    2016.000000   \n",
       "std         0.497329              0.317712          3.645623       1.481725   \n",
       "\n",
       "       earliest_cr_line_year  \n",
       "count          396030.000000  \n",
       "mean             1997.857667  \n",
       "min              1944.000000  \n",
       "25%              1994.000000  \n",
       "50%              1999.000000  \n",
       "75%              2003.000000  \n",
       "max              2013.000000  \n",
       "std                 7.198387  "
      ]
     },
     "execution_count": 116,
     "metadata": {},
     "output_type": "execute_result"
    }
   ],
   "source": [
    "data.describe()"
   ]
  },
  {
   "cell_type": "code",
   "execution_count": 117,
   "id": "a189b03d-a2b2-4a88-aa11-bc8bd4f3e270",
   "metadata": {},
   "outputs": [
    {
     "data": {
      "image/png": "[encoded data removed]",
      "text/plain": [
       "<Figure size 1000x500 with 2 Axes>"
      ]
     },
     "metadata": {},
     "output_type": "display_data"
    }
   ],
   "source": [
    "plt.figure(figsize= (10, 5))\n",
    "\n",
    "plt.subplot(1, 2, 1)\n",
    "sns.boxplot(data['loan_amnt'])\n",
    "\n",
    "plt.subplot(1, 2, 2)\n",
    "sns.histplot(data['loan_amnt'], kde= True, bins= 30)\n",
    "\n",
    "plt.tight_layout()\n",
    "plt.show()"
   ]
  },
  {
   "cell_type": "markdown",
   "id": "bf01acaa-c166-4e78-a2d5-d4264a974881",
   "metadata": {},
   "source": [
    "### **Descriptive Statistics Summary**\n",
    "\n",
    "#### Loan and Income-Related Features\n",
    "- **`loan_amnt`** ranges from **₹500 to ₹40,000**, with a **median** of ₹12,000.  \n",
    "  → Most borrowers request **moderate loan amounts**, indicating conservative borrowing behavior.\n",
    "- **`annual_inc`** has a **mean of ~₹74K**, but the **maximum is ₹8.7 million**, suggesting the presence of **extreme outliers**.\n",
    "- **`installment`** is tightly coupled with `loan_amnt` (range: ₹16 to ₹1,534), with a median of ₹375/month.\n",
    "\n",
    "#### Interest and Debt Metrics\n",
    "- **`int_rate`** varies from **5.32% to 30.99%**, with a **mean of ~13.6%**, suggesting a **broad risk range** of borrowers.\n",
    "- **`dti` (Debt-to-Income Ratio)** ranges from 0 to a **very high value of 9999**, which is likely an **invalid or imputed value**.\n",
    "  - **Median DTI** is around **16.9**, which is within industry-acceptable limits.\n",
    "  - **Action**: Filter or impute high DTI outliers (above 100 likely invalid).\n",
    "\n",
    "#### Credit History & Behavior\n",
    "- **`open_acc`** has a **mean of ~11**, maxing out at 90 open accounts — high but plausible for affluent or heavily leveraged individuals.\n",
    "- **`total_acc`** (all historical accounts) ranges up to 151, with a median of 24 — showing a **typical credit history depth**.\n",
    "- **`revol_bal`** (revolving balance) maxes out at **₹1.74 million**, with a **median of ₹11K**, again suggesting outliers.\n",
    "- **`revol_util`** (credit utilization rate) has a median around **54.8%**, indicating **moderate to high utilization** among borrowers.\n",
    "\n",
    "#### Public Records & Risk Indicators\n",
    "- **`pub_rec`** and **`pub_rec_bankruptcies`** are mostly **zero** across the dataset:\n",
    "  - Mean of `pub_rec` is 0.17; **most people have clean records**.\n",
    "  - **Max values (86 and 8 respectively)** point to **very risky borrowers** who should be flagged or excluded.\n",
    "- **`mort_acc`** has a **median of 1**, showing **moderate home loan penetration** in the dataset.\n",
    "\n",
    "---\n",
    "\n",
    "### Key Observations\n",
    "- **Missing Data**: Present in `revol_util`, `mort_acc`, and `pub_rec_bankruptcies` — needs imputation.\n",
    "- **Outliers Detected**:\n",
    "  - `annual_inc`, `dti`, `pub_rec`, `revol_bal`, `pub_rec_bankruptcies`\n",
    "  - Treat these before scaling and modeling.\n",
    "- **Feature Scaling**: Required due to wide value range in features like `revol_bal`, `loan_amnt`, `annual_inc`, `installment`.\n",
    "- **Skewed Distribution**: Income and installment-related features likely **right-skewed**, suggesting **log transformation** may help.\n",
    "\n"
   ]
  },
  {
   "cell_type": "code",
   "execution_count": 119,
   "id": "db4f5d7c-d9b8-4916-b08e-8dd21f88f368",
   "metadata": {},
   "outputs": [
    {
     "name": "stdout",
     "output_type": "stream",
     "text": [
      "['term', 'grade', 'sub_grade', 'emp_length', 'home_ownership', 'verification_status', 'loan_status', 'purpose', 'pub_rec', 'initial_list_status', 'application_type', 'mort_acc', 'pub_rec_bankruptcies', 'emp_length_clean', 'emp_level', 'issue_d_year', 'pincode'] 17\n"
     ]
    }
   ],
   "source": [
    "cat_cols = [col for col in data.columns if data[col].dtype == 'object' or data[col].nunique() <= 11]\n",
    "print(cat_cols, len(cat_cols))"
   ]
  },
  {
   "cell_type": "code",
   "execution_count": 120,
   "id": "aaff445c-1955-4203-a22c-a593e599d00e",
   "metadata": {},
   "outputs": [
    {
     "data": {
      "text/plain": [
       "loan_amnt                 1397\n",
       "term                         2\n",
       "int_rate                   566\n",
       "installment              55706\n",
       "grade                        7\n",
       "sub_grade                   35\n",
       "emp_length                  11\n",
       "home_ownership               6\n",
       "annual_inc               27197\n",
       "verification_status          2\n",
       "issue_d                    115\n",
       "loan_status                  2\n",
       "purpose                     14\n",
       "dti                       4262\n",
       "earliest_cr_line           684\n",
       "open_acc                    61\n",
       "pub_rec                      2\n",
       "revol_bal                55622\n",
       "revol_util                1068\n",
       "total_acc                  118\n",
       "initial_list_status          2\n",
       "application_type             3\n",
       "mort_acc                     2\n",
       "pub_rec_bankruptcies         2\n",
       "emp_length_clean            11\n",
       "emp_level                    5\n",
       "issue_d_year                10\n",
       "earliest_cr_line_year       65\n",
       "pincode                     10\n",
       "dtype: int64"
      ]
     },
     "execution_count": 120,
     "metadata": {},
     "output_type": "execute_result"
    }
   ],
   "source": [
    "data.nunique()"
   ]
  },
  {
   "cell_type": "code",
   "execution_count": 121,
   "id": "e8ef12d0-7721-4332-8fe3-a77063921af5",
   "metadata": {},
   "outputs": [
    {
     "name": "stdout",
     "output_type": "stream",
     "text": [
      "<class 'pandas.core.frame.DataFrame'>\n",
      "RangeIndex: 396030 entries, 0 to 396029\n",
      "Data columns (total 29 columns):\n",
      " #   Column                 Non-Null Count   Dtype         \n",
      "---  ------                 --------------   -----         \n",
      " 0   loan_amnt              396030 non-null  float64       \n",
      " 1   term                   396030 non-null  int32         \n",
      " 2   int_rate               396030 non-null  float64       \n",
      " 3   installment            396030 non-null  float64       \n",
      " 4   grade                  396030 non-null  object        \n",
      " 5   sub_grade              396030 non-null  object        \n",
      " 6   emp_length             377729 non-null  object        \n",
      " 7   home_ownership         396030 non-null  object        \n",
      " 8   annual_inc             396030 non-null  float64       \n",
      " 9   verification_status    396030 non-null  int64         \n",
      " 10  issue_d                396030 non-null  datetime64[ns]\n",
      " 11  loan_status            396030 non-null  category      \n",
      " 12  purpose                396030 non-null  object        \n",
      " 13  dti                    396030 non-null  float64       \n",
      " 14  earliest_cr_line       396030 non-null  datetime64[ns]\n",
      " 15  open_acc               396030 non-null  float64       \n",
      " 16  pub_rec                396030 non-null  float64       \n",
      " 17  revol_bal              396030 non-null  float64       \n",
      " 18  revol_util             396030 non-null  float64       \n",
      " 19  total_acc              396030 non-null  float64       \n",
      " 20  initial_list_status    396030 non-null  object        \n",
      " 21  application_type       396030 non-null  object        \n",
      " 22  mort_acc               396030 non-null  float64       \n",
      " 23  pub_rec_bankruptcies   396030 non-null  float64       \n",
      " 24  emp_length_clean       377729 non-null  float64       \n",
      " 25  emp_level              377729 non-null  category      \n",
      " 26  issue_d_year           396030 non-null  int32         \n",
      " 27  earliest_cr_line_year  396030 non-null  int32         \n",
      " 28  pincode                396030 non-null  object        \n",
      "dtypes: category(2), datetime64[ns](2), float64(13), int32(3), int64(1), object(8)\n",
      "memory usage: 77.8+ MB\n"
     ]
    }
   ],
   "source": [
    "data.info()"
   ]
  },
  {
   "cell_type": "code",
   "execution_count": 122,
   "id": "4f244404-096a-4a1a-a548-f3912b876abd",
   "metadata": {},
   "outputs": [
    {
     "data": {
      "text/plain": [
       "['loan_amnt',\n",
       " 'term',\n",
       " 'int_rate',\n",
       " 'installment',\n",
       " 'annual_inc',\n",
       " 'dti',\n",
       " 'open_acc',\n",
       " 'pub_rec',\n",
       " 'revol_bal',\n",
       " 'revol_util',\n",
       " 'total_acc',\n",
       " 'mort_acc',\n",
       " 'pub_rec_bankruptcies']"
      ]
     },
     "execution_count": 122,
     "metadata": {},
     "output_type": "execute_result"
    }
   ],
   "source": [
    "# num_cols = [\"loan_amnt\", \"int_rate\", \"int_rate\", \"annual_inc\", \"dti\", \"open_acc\", \"revol_bal\", 'pub_rec_bankruptcies']\n",
    "\n",
    "num_cols = [col for col in data.columns if data[col].dtype in ('float', 'int')]\n",
    "num_cols= num_cols[:-3] # removing last month, year\n",
    "# num_cols.remove('emp_length_clean')\n",
    "num_cols"
   ]
  },
  {
   "cell_type": "code",
   "execution_count": 123,
   "id": "ea0fbe95-6286-4c4e-98cc-3bb7fbdfdab3",
   "metadata": {},
   "outputs": [],
   "source": [
    "\n",
    "def hist_box_plot(data, cols):\n",
    "    colors = sns.color_palette(\"Set2\", len(cols))\n",
    "    \n",
    "    plt.figure(figsize=(30, 20))\n",
    "    # if there are three numerical columns, total 6 positions\n",
    "    n = len(cols)\n",
    "    for i, col in enumerate(cols):\n",
    "        plt.subplot(n, n-1, (n-1) * i + 1)\n",
    "        sns.histplot(data[col], kde=True, bins=30, color=colors[i])\n",
    "        plt.title(f\"Histogram & KDE of {col}\")\n",
    "    \n",
    "        plt.subplot(n, n-1, (n-1) * i + 2)\n",
    "        sns.boxplot(x=data[col], color=colors[i])\n",
    "        plt.title(f\"Box Plot of {col}\")\n",
    "    \n",
    "    plt.tight_layout()\n",
    "    plt.show()"
   ]
  },
  {
   "cell_type": "code",
   "execution_count": 124,
   "id": "2eaa479f-bc41-4506-885b-5d877754186c",
   "metadata": {
    "scrolled": true
   },
   "outputs": [
    {
     "data": {
      "image/png": "[encoded data removed]",
      "text/plain": [
       "<Figure size 3000x2000 with 6 Axes>"
      ]
     },
     "metadata": {},
     "output_type": "display_data"
    }
   ],
   "source": [
    "hist_box_plot(data, cols)"
   ]
  },
  {
   "cell_type": "markdown",
   "id": "0f92715c-92b0-4367-a2c8-af63bd34c199",
   "metadata": {},
   "source": [
    "## There are"
   ]
  },
  {
   "cell_type": "markdown",
   "id": "3453adbe-c6dc-43ea-8347-061d2ee93ee4",
   "metadata": {},
   "source": [
    "## Target Variable EDA\n",
    "**Check how much target variable (Loan_Status) depends on different predictor variables (Use count plots, box plots, heat maps etc)**"
   ]
  },
  {
   "cell_type": "code",
   "execution_count": 127,
   "id": "a27710ad-d651-4a61-bbf9-c8e4e173f42c",
   "metadata": {},
   "outputs": [
    {
     "data": {
      "text/html": [
       "<div>\n",
       "<style scoped>\n",
       "    .dataframe tbody tr th:only-of-type {\n",
       "        vertical-align: middle;\n",
       "    }\n",
       "\n",
       "    .dataframe tbody tr th {\n",
       "        vertical-align: top;\n",
       "    }\n",
       "\n",
       "    .dataframe thead th {\n",
       "        text-align: right;\n",
       "    }\n",
       "</style>\n",
       "<table border=\"1\" class=\"dataframe\">\n",
       "  <thead>\n",
       "    <tr style=\"text-align: right;\">\n",
       "      <th></th>\n",
       "      <th>loan_status</th>\n",
       "      <th>count</th>\n",
       "    </tr>\n",
       "  </thead>\n",
       "  <tbody>\n",
       "    <tr>\n",
       "      <th>0</th>\n",
       "      <td>1</td>\n",
       "      <td>318357</td>\n",
       "    </tr>\n",
       "    <tr>\n",
       "      <th>1</th>\n",
       "      <td>0</td>\n",
       "      <td>77673</td>\n",
       "    </tr>\n",
       "  </tbody>\n",
       "</table>\n",
       "</div>"
      ],
      "text/plain": [
       "  loan_status   count\n",
       "0           1  318357\n",
       "1           0   77673"
      ]
     },
     "execution_count": 127,
     "metadata": {},
     "output_type": "execute_result"
    }
   ],
   "source": [
    "values= data['loan_status'].value_counts().reset_index()\n",
    "values"
   ]
  },
  {
   "cell_type": "code",
   "execution_count": 128,
   "id": "5c073c4c-587f-40e6-a11b-ce18c887dacc",
   "metadata": {
    "scrolled": true
   },
   "outputs": [
    {
     "data": {
      "image/png": "[encoded data removed]",
      "text/plain": [
       "<Figure size 900x300 with 1 Axes>"
      ]
     },
     "metadata": {},
     "output_type": "display_data"
    }
   ],
   "source": [
    "plt.figure(figsize= (9, 3))\n",
    "sns.barplot(values, y ='loan_status', x= \"count\", orient= \"h\")\n",
    "plt.title(\"Checking Imbalance data in the Loan status\")\n",
    "plt.ylabel(\"No. of people\")\n",
    "\n",
    "plt.show()"
   ]
  },
  {
   "cell_type": "markdown",
   "id": "e80ab104-f0f7-47bd-9748-9a168fc93110",
   "metadata": {},
   "source": [
    "**There is a lot of imbalance in the data especially in the target feature**"
   ]
  },
  {
   "cell_type": "code",
   "execution_count": 130,
   "id": "324cd202-c41a-4918-85c5-5f265884fc5a",
   "metadata": {},
   "outputs": [],
   "source": [
    "# Loan status - since it is the target var - let's change to binary values\n",
    "\n",
    "data['loan_status'] = data['loan_status'].replace({\n",
    "    \"Fully Paid\": 1,\n",
    "    \"Charged Off\" : 0\n",
    "})\n",
    "data['loan_status'] = data['loan_status'].astype(\"category\")\n",
    "# data['loan_status'].value_counts()"
   ]
  },
  {
   "cell_type": "code",
   "execution_count": 131,
   "id": "2c52ef9b-5636-4bb5-a9ff-57677b611bf7",
   "metadata": {},
   "outputs": [
    {
     "data": {
      "text/html": [
       "<div>\n",
       "<style scoped>\n",
       "    .dataframe tbody tr th:only-of-type {\n",
       "        vertical-align: middle;\n",
       "    }\n",
       "\n",
       "    .dataframe tbody tr th {\n",
       "        vertical-align: top;\n",
       "    }\n",
       "\n",
       "    .dataframe thead th {\n",
       "        text-align: right;\n",
       "    }\n",
       "</style>\n",
       "<table border=\"1\" class=\"dataframe\">\n",
       "  <thead>\n",
       "    <tr style=\"text-align: right;\">\n",
       "      <th></th>\n",
       "      <th>loan_status</th>\n",
       "      <th>annual_inc</th>\n",
       "    </tr>\n",
       "  </thead>\n",
       "  <tbody>\n",
       "    <tr>\n",
       "      <th>loan_status</th>\n",
       "      <td>1.000000</td>\n",
       "      <td>0.053432</td>\n",
       "    </tr>\n",
       "    <tr>\n",
       "      <th>annual_inc</th>\n",
       "      <td>0.053432</td>\n",
       "      <td>1.000000</td>\n",
       "    </tr>\n",
       "  </tbody>\n",
       "</table>\n",
       "</div>"
      ],
      "text/plain": [
       "             loan_status  annual_inc\n",
       "loan_status     1.000000    0.053432\n",
       "annual_inc      0.053432    1.000000"
      ]
     },
     "execution_count": 131,
     "metadata": {},
     "output_type": "execute_result"
    }
   ],
   "source": [
    "data[['loan_status', 'annual_inc']].corr()"
   ]
  },
  {
   "cell_type": "code",
   "execution_count": 132,
   "id": "201e04c5-ecd3-4785-afb8-ac63ba31a370",
   "metadata": {},
   "outputs": [
    {
     "data": {
      "text/plain": [
       "Index(['loan_amnt', 'term', 'int_rate', 'installment', 'grade', 'sub_grade',\n",
       "       'emp_length', 'home_ownership', 'annual_inc', 'verification_status',\n",
       "       'issue_d', 'loan_status', 'purpose', 'dti', 'earliest_cr_line',\n",
       "       'open_acc', 'pub_rec', 'revol_bal', 'revol_util', 'total_acc',\n",
       "       'initial_list_status', 'application_type', 'mort_acc',\n",
       "       'pub_rec_bankruptcies', 'emp_length_clean', 'emp_level', 'issue_d_year',\n",
       "       'earliest_cr_line_year', 'pincode'],\n",
       "      dtype='object')"
      ]
     },
     "execution_count": 132,
     "metadata": {},
     "output_type": "execute_result"
    }
   ],
   "source": [
    "data.columns"
   ]
  },
  {
   "cell_type": "markdown",
   "id": "f582984d-e3f9-45b3-bd8c-807e70b37221",
   "metadata": {},
   "source": [
    "**Check how much target variable (Loan_Status) depends on different predictor variables (Use count plots, box plots, heat maps etc)**"
   ]
  },
  {
   "cell_type": "markdown",
   "id": "3feff019-bbe3-4efb-8b98-de6b4a85b2bf",
   "metadata": {},
   "source": [
    "### **Correlation between independent variables**"
   ]
  },
  {
   "cell_type": "code",
   "execution_count": 135,
   "id": "1a0eed45-9f0d-4b30-8cda-e49ce5b90edf",
   "metadata": {},
   "outputs": [
    {
     "data": {
      "image/png": "[encoded data removed]",
      "text/plain": [
       "<Figure size 1200x800 with 2 Axes>"
      ]
     },
     "metadata": {},
     "output_type": "display_data"
    }
   ],
   "source": [
    "plt.figure(figsize=(12, 8))\n",
    "\n",
    "sns.heatmap(data[num_cols].corr(method= \"spearman\"),annot= True, cmap= \"viridis\" )\n",
    "plt.tight_layout()\n",
    "plt.show()"
   ]
  },
  {
   "cell_type": "markdown",
   "id": "ba6bf434-f90c-4894-a745-60f135d7f823",
   "metadata": {},
   "source": [
    "### 1. **Highly Correlated Features**\n",
    "- **`loan_amnt` and `installment`**: Very strong positive correlation (**0.97**), which makes sense since the installment amount is usually derived from the loan amount. we can consider dropping one of them to avoid multicollinearity in logistic regression.\n",
    "- **`pub_rec` and `pub_rec_bankruptcies`**: Very strong positive correlation (**0.87**), indicating redundancy. Again, consider keeping only one of these.\n",
    "\n",
    "---\n",
    "\n",
    "### 2. **Moderate Correlations**\n",
    "- **`loan_amnt`, `installment` vs `revol_bal` and `annual_inc`**: Positive correlations (~0.46–0.49). People with higher income or higher revolving balance may be eligible for higher loan amounts and higher installment values.\n",
    "- **`open_acc` and `total_acc`**: Moderate correlation (**0.67**), showing a possible structural relationship between total and open accounts.\n",
    "\n",
    "---\n",
    "\n",
    "### 3. **Weak or No Correlations**\n",
    "- **`int_rate` has low correlation** with most variables. This suggests that interest rate might act independently and could still be a good predictor of repayment likelihood.\n",
    "- **`dti` (Debt-to-Income Ratio)** also shows weak correlation with most variables, which is expected—it combines multiple aspects of debt and income, making it a potential good standalone feature."
   ]
  },
  {
   "cell_type": "code",
   "execution_count": null,
   "id": "a6ef25f2-9445-4a1e-9c8c-fb804f5be2b1",
   "metadata": {},
   "outputs": [],
   "source": []
  }
 ],
 "metadata": {
  "kernelspec": {
   "display_name": "Python [conda env:base] *",
   "language": "python",
   "name": "conda-base-py"
  },
  "language_info": {
   "codemirror_mode": {
    "name": "ipython",
    "version": 3
   },
   "file_extension": ".py",
   "mimetype": "text/x-python",
   "name": "python",
   "nbconvert_exporter": "python",
   "pygments_lexer": "ipython3",
   "version": "3.12.7"
  }
 },
 "nbformat": 4,
 "nbformat_minor": 5
}
